{
  "cells": [
    {
      "cell_type": "markdown",
      "id": "a2722fa9-5154-49f3-9294-78f02583f824",
      "metadata": {
        "id": "a2722fa9-5154-49f3-9294-78f02583f824"
      },
      "source": [
        "#  KPMG AU Virtual Experience Program"
      ]
    },
    {
      "cell_type": "markdown",
      "id": "36a80e1e-bde3-42ac-a5ef-587ce52b0826",
      "metadata": {
        "id": "36a80e1e-bde3-42ac-a5ef-587ce52b0826"
      },
      "source": [
        "## Task 2: Data Insights\n",
        "Targeting high value customers based on customer demographics and attributes."
      ]
    },
    {
      "cell_type": "code",
      "execution_count": 1,
      "id": "e7709609-8908-4d02-a8d2-165acf00ad23",
      "metadata": {
        "id": "e7709609-8908-4d02-a8d2-165acf00ad23"
      },
      "outputs": [],
      "source": [
        "# importing the necessary packages and libraries\n",
        "import os\n",
        "import numpy as np\n",
        "import scipy.stats as stats\n",
        "import pandas as pd\n",
        "import matplotlib.pyplot as plt\n",
        "import seaborn as sn\n",
        "import math\n",
        "import datetime as dt\n",
        "%matplotlib inline"
      ]
    },
    {
      "cell_type": "code",
      "execution_count": 3,
      "id": "35116e52-85c8-42b8-81d6-f0ec78fc9e9f",
      "metadata": {
        "id": "35116e52-85c8-42b8-81d6-f0ec78fc9e9f"
      },
      "outputs": [],
      "source": [
        "#Save the list of all csv files\n",
        "cust_addr = pd.read_csv('/content/cust_addr_cleaned.csv')\n",
        "cust_demo = pd.read_csv('/content/cust_demo_cleaned.csv')\n",
        "new_cust = pd.read_csv('/content/new_cust_cleaned.csv')\n",
        "trans = pd.read_csv('/content/trans_cleaned.csv')"
      ]
    },
    {
      "cell_type": "code",
      "execution_count": 4,
      "id": "50bee529-8597-4b44-865b-620cbe29d183",
      "metadata": {
        "id": "50bee529-8597-4b44-865b-620cbe29d183"
      },
      "outputs": [],
      "source": [
        "#Merged all files in the list based on matching 'customer id' column\n",
        "cust_demo_addr = pd.merge(cust_demo, cust_addr, on=['customer_id'])\n",
        "cust_demo_addr_trans = pd.merge(cust_demo_addr, trans, on=['customer_id'])"
      ]
    },
    {
      "cell_type": "code",
      "execution_count": 5,
      "id": "30baef6f-6753-4970-a962-49f28be31ef1",
      "metadata": {
        "id": "30baef6f-6753-4970-a962-49f28be31ef1"
      },
      "outputs": [],
      "source": [
        "#Export to csv\n",
        "cust_demo_addr_trans.to_csv( \"merged.csv\", index=False, encoding='utf-8-sig')"
      ]
    },
    {
      "cell_type": "markdown",
      "id": "4e05a9c4-0346-45c3-b7de-d2817a31015b",
      "metadata": {
        "id": "4e05a9c4-0346-45c3-b7de-d2817a31015b"
      },
      "source": [
        "### Analysis on Current Customer "
      ]
    },
    {
      "cell_type": "code",
      "execution_count": 6,
      "id": "9cb6ea64-e02e-410d-a5a3-a6f92c44009e",
      "metadata": {
        "id": "9cb6ea64-e02e-410d-a5a3-a6f92c44009e"
      },
      "outputs": [],
      "source": [
        "#Ascending order\n",
        "df = cust_demo_addr_trans.sort_values(by=['customer_id'])"
      ]
    },
    {
      "cell_type": "code",
      "execution_count": 7,
      "id": "ac4b08c3-a91a-42fc-ae6d-b2db34b91b22",
      "metadata": {
        "colab": {
          "base_uri": "https://localhost:8080/",
          "height": 386
        },
        "id": "ac4b08c3-a91a-42fc-ae6d-b2db34b91b22",
        "outputId": "420c9d4d-73fe-42bd-c91e-7742d8a88891"
      },
      "outputs": [
        {
          "output_type": "execute_result",
          "data": {
            "text/plain": [
              "    customer_id first_name  last_name  gender  \\\n",
              "88            1    Laraine  Medendorp  Female   \n",
              "85            1    Laraine  Medendorp  Female   \n",
              "86            1    Laraine  Medendorp  Female   \n",
              "87            1    Laraine  Medendorp  Female   \n",
              "89            1    Laraine  Medendorp  Female   \n",
              "\n",
              "    past_3_years_bike_related_purchases         DOB            job_title  \\\n",
              "88                                   93  1953-10-12  Executive Secretary   \n",
              "85                                   93  1953-10-12  Executive Secretary   \n",
              "86                                   93  1953-10-12  Executive Secretary   \n",
              "87                                   93  1953-10-12  Executive Secretary   \n",
              "89                                   93  1953-10-12  Executive Secretary   \n",
              "\n",
              "   job_industry_category wealth_segment  deceased_indicator  ...  \\\n",
              "88                Health  Mass Customer               False  ...   \n",
              "85                Health  Mass Customer               False  ...   \n",
              "86                Health  Mass Customer               False  ...   \n",
              "87                Health  Mass Customer               False  ...   \n",
              "89                Health  Mass Customer               False  ...   \n",
              "\n",
              "    transaction_date  online_order order_status           brand product_line  \\\n",
              "88        2017-05-11           1.0     Approved   Trek Bicycles         Road   \n",
              "85        2017-03-27           0.0     Approved  Norco Bicycles     Mountain   \n",
              "86        2017-03-29           1.0     Approved  Giant Bicycles     Standard   \n",
              "87        2017-04-06           1.0     Approved           Solex     Standard   \n",
              "89        2017-05-19           0.0     Approved  Giant Bicycles         Road   \n",
              "\n",
              "   product_class  product_size  list_price  standard_cost  \\\n",
              "88           low         small     1720.70        1531.42   \n",
              "85           low         small      688.63         612.88   \n",
              "86          high        medium     1274.93         764.96   \n",
              "87        medium        medium     1577.53         826.51   \n",
              "89        medium        medium     1538.99         829.65   \n",
              "\n",
              "   product_first_sold_date  \n",
              "88                 37823.0  \n",
              "85                 33455.0  \n",
              "86                 35378.0  \n",
              "87                 39526.0  \n",
              "89                 33552.0  \n",
              "\n",
              "[5 rows x 29 columns]"
            ],
            "text/html": [
              "\n",
              "  <div id=\"df-09038aaa-9a91-4321-9663-b21071221d4c\">\n",
              "    <div class=\"colab-df-container\">\n",
              "      <div>\n",
              "<style scoped>\n",
              "    .dataframe tbody tr th:only-of-type {\n",
              "        vertical-align: middle;\n",
              "    }\n",
              "\n",
              "    .dataframe tbody tr th {\n",
              "        vertical-align: top;\n",
              "    }\n",
              "\n",
              "    .dataframe thead th {\n",
              "        text-align: right;\n",
              "    }\n",
              "</style>\n",
              "<table border=\"1\" class=\"dataframe\">\n",
              "  <thead>\n",
              "    <tr style=\"text-align: right;\">\n",
              "      <th></th>\n",
              "      <th>customer_id</th>\n",
              "      <th>first_name</th>\n",
              "      <th>last_name</th>\n",
              "      <th>gender</th>\n",
              "      <th>past_3_years_bike_related_purchases</th>\n",
              "      <th>DOB</th>\n",
              "      <th>job_title</th>\n",
              "      <th>job_industry_category</th>\n",
              "      <th>wealth_segment</th>\n",
              "      <th>deceased_indicator</th>\n",
              "      <th>...</th>\n",
              "      <th>transaction_date</th>\n",
              "      <th>online_order</th>\n",
              "      <th>order_status</th>\n",
              "      <th>brand</th>\n",
              "      <th>product_line</th>\n",
              "      <th>product_class</th>\n",
              "      <th>product_size</th>\n",
              "      <th>list_price</th>\n",
              "      <th>standard_cost</th>\n",
              "      <th>product_first_sold_date</th>\n",
              "    </tr>\n",
              "  </thead>\n",
              "  <tbody>\n",
              "    <tr>\n",
              "      <th>88</th>\n",
              "      <td>1</td>\n",
              "      <td>Laraine</td>\n",
              "      <td>Medendorp</td>\n",
              "      <td>Female</td>\n",
              "      <td>93</td>\n",
              "      <td>1953-10-12</td>\n",
              "      <td>Executive Secretary</td>\n",
              "      <td>Health</td>\n",
              "      <td>Mass Customer</td>\n",
              "      <td>False</td>\n",
              "      <td>...</td>\n",
              "      <td>2017-05-11</td>\n",
              "      <td>1.0</td>\n",
              "      <td>Approved</td>\n",
              "      <td>Trek Bicycles</td>\n",
              "      <td>Road</td>\n",
              "      <td>low</td>\n",
              "      <td>small</td>\n",
              "      <td>1720.70</td>\n",
              "      <td>1531.42</td>\n",
              "      <td>37823.0</td>\n",
              "    </tr>\n",
              "    <tr>\n",
              "      <th>85</th>\n",
              "      <td>1</td>\n",
              "      <td>Laraine</td>\n",
              "      <td>Medendorp</td>\n",
              "      <td>Female</td>\n",
              "      <td>93</td>\n",
              "      <td>1953-10-12</td>\n",
              "      <td>Executive Secretary</td>\n",
              "      <td>Health</td>\n",
              "      <td>Mass Customer</td>\n",
              "      <td>False</td>\n",
              "      <td>...</td>\n",
              "      <td>2017-03-27</td>\n",
              "      <td>0.0</td>\n",
              "      <td>Approved</td>\n",
              "      <td>Norco Bicycles</td>\n",
              "      <td>Mountain</td>\n",
              "      <td>low</td>\n",
              "      <td>small</td>\n",
              "      <td>688.63</td>\n",
              "      <td>612.88</td>\n",
              "      <td>33455.0</td>\n",
              "    </tr>\n",
              "    <tr>\n",
              "      <th>86</th>\n",
              "      <td>1</td>\n",
              "      <td>Laraine</td>\n",
              "      <td>Medendorp</td>\n",
              "      <td>Female</td>\n",
              "      <td>93</td>\n",
              "      <td>1953-10-12</td>\n",
              "      <td>Executive Secretary</td>\n",
              "      <td>Health</td>\n",
              "      <td>Mass Customer</td>\n",
              "      <td>False</td>\n",
              "      <td>...</td>\n",
              "      <td>2017-03-29</td>\n",
              "      <td>1.0</td>\n",
              "      <td>Approved</td>\n",
              "      <td>Giant Bicycles</td>\n",
              "      <td>Standard</td>\n",
              "      <td>high</td>\n",
              "      <td>medium</td>\n",
              "      <td>1274.93</td>\n",
              "      <td>764.96</td>\n",
              "      <td>35378.0</td>\n",
              "    </tr>\n",
              "    <tr>\n",
              "      <th>87</th>\n",
              "      <td>1</td>\n",
              "      <td>Laraine</td>\n",
              "      <td>Medendorp</td>\n",
              "      <td>Female</td>\n",
              "      <td>93</td>\n",
              "      <td>1953-10-12</td>\n",
              "      <td>Executive Secretary</td>\n",
              "      <td>Health</td>\n",
              "      <td>Mass Customer</td>\n",
              "      <td>False</td>\n",
              "      <td>...</td>\n",
              "      <td>2017-04-06</td>\n",
              "      <td>1.0</td>\n",
              "      <td>Approved</td>\n",
              "      <td>Solex</td>\n",
              "      <td>Standard</td>\n",
              "      <td>medium</td>\n",
              "      <td>medium</td>\n",
              "      <td>1577.53</td>\n",
              "      <td>826.51</td>\n",
              "      <td>39526.0</td>\n",
              "    </tr>\n",
              "    <tr>\n",
              "      <th>89</th>\n",
              "      <td>1</td>\n",
              "      <td>Laraine</td>\n",
              "      <td>Medendorp</td>\n",
              "      <td>Female</td>\n",
              "      <td>93</td>\n",
              "      <td>1953-10-12</td>\n",
              "      <td>Executive Secretary</td>\n",
              "      <td>Health</td>\n",
              "      <td>Mass Customer</td>\n",
              "      <td>False</td>\n",
              "      <td>...</td>\n",
              "      <td>2017-05-19</td>\n",
              "      <td>0.0</td>\n",
              "      <td>Approved</td>\n",
              "      <td>Giant Bicycles</td>\n",
              "      <td>Road</td>\n",
              "      <td>medium</td>\n",
              "      <td>medium</td>\n",
              "      <td>1538.99</td>\n",
              "      <td>829.65</td>\n",
              "      <td>33552.0</td>\n",
              "    </tr>\n",
              "  </tbody>\n",
              "</table>\n",
              "<p>5 rows × 29 columns</p>\n",
              "</div>\n",
              "      <button class=\"colab-df-convert\" onclick=\"convertToInteractive('df-09038aaa-9a91-4321-9663-b21071221d4c')\"\n",
              "              title=\"Convert this dataframe to an interactive table.\"\n",
              "              style=\"display:none;\">\n",
              "        \n",
              "  <svg xmlns=\"http://www.w3.org/2000/svg\" height=\"24px\"viewBox=\"0 0 24 24\"\n",
              "       width=\"24px\">\n",
              "    <path d=\"M0 0h24v24H0V0z\" fill=\"none\"/>\n",
              "    <path d=\"M18.56 5.44l.94 2.06.94-2.06 2.06-.94-2.06-.94-.94-2.06-.94 2.06-2.06.94zm-11 1L8.5 8.5l.94-2.06 2.06-.94-2.06-.94L8.5 2.5l-.94 2.06-2.06.94zm10 10l.94 2.06.94-2.06 2.06-.94-2.06-.94-.94-2.06-.94 2.06-2.06.94z\"/><path d=\"M17.41 7.96l-1.37-1.37c-.4-.4-.92-.59-1.43-.59-.52 0-1.04.2-1.43.59L10.3 9.45l-7.72 7.72c-.78.78-.78 2.05 0 2.83L4 21.41c.39.39.9.59 1.41.59.51 0 1.02-.2 1.41-.59l7.78-7.78 2.81-2.81c.8-.78.8-2.07 0-2.86zM5.41 20L4 18.59l7.72-7.72 1.47 1.35L5.41 20z\"/>\n",
              "  </svg>\n",
              "      </button>\n",
              "      \n",
              "  <style>\n",
              "    .colab-df-container {\n",
              "      display:flex;\n",
              "      flex-wrap:wrap;\n",
              "      gap: 12px;\n",
              "    }\n",
              "\n",
              "    .colab-df-convert {\n",
              "      background-color: #E8F0FE;\n",
              "      border: none;\n",
              "      border-radius: 50%;\n",
              "      cursor: pointer;\n",
              "      display: none;\n",
              "      fill: #1967D2;\n",
              "      height: 32px;\n",
              "      padding: 0 0 0 0;\n",
              "      width: 32px;\n",
              "    }\n",
              "\n",
              "    .colab-df-convert:hover {\n",
              "      background-color: #E2EBFA;\n",
              "      box-shadow: 0px 1px 2px rgba(60, 64, 67, 0.3), 0px 1px 3px 1px rgba(60, 64, 67, 0.15);\n",
              "      fill: #174EA6;\n",
              "    }\n",
              "\n",
              "    [theme=dark] .colab-df-convert {\n",
              "      background-color: #3B4455;\n",
              "      fill: #D2E3FC;\n",
              "    }\n",
              "\n",
              "    [theme=dark] .colab-df-convert:hover {\n",
              "      background-color: #434B5C;\n",
              "      box-shadow: 0px 1px 3px 1px rgba(0, 0, 0, 0.15);\n",
              "      filter: drop-shadow(0px 1px 2px rgba(0, 0, 0, 0.3));\n",
              "      fill: #FFFFFF;\n",
              "    }\n",
              "  </style>\n",
              "\n",
              "      <script>\n",
              "        const buttonEl =\n",
              "          document.querySelector('#df-09038aaa-9a91-4321-9663-b21071221d4c button.colab-df-convert');\n",
              "        buttonEl.style.display =\n",
              "          google.colab.kernel.accessAllowed ? 'block' : 'none';\n",
              "\n",
              "        async function convertToInteractive(key) {\n",
              "          const element = document.querySelector('#df-09038aaa-9a91-4321-9663-b21071221d4c');\n",
              "          const dataTable =\n",
              "            await google.colab.kernel.invokeFunction('convertToInteractive',\n",
              "                                                     [key], {});\n",
              "          if (!dataTable) return;\n",
              "\n",
              "          const docLinkHtml = 'Like what you see? Visit the ' +\n",
              "            '<a target=\"_blank\" href=https://colab.research.google.com/notebooks/data_table.ipynb>data table notebook</a>'\n",
              "            + ' to learn more about interactive tables.';\n",
              "          element.innerHTML = '';\n",
              "          dataTable['output_type'] = 'display_data';\n",
              "          await google.colab.output.renderOutput(dataTable, element);\n",
              "          const docLink = document.createElement('div');\n",
              "          docLink.innerHTML = docLinkHtml;\n",
              "          element.appendChild(docLink);\n",
              "        }\n",
              "      </script>\n",
              "    </div>\n",
              "  </div>\n",
              "  "
            ]
          },
          "metadata": {},
          "execution_count": 7
        }
      ],
      "source": [
        "df.head()"
      ]
    },
    {
      "cell_type": "code",
      "execution_count": 8,
      "id": "1207f595-7a7e-4c2b-92cb-b03feda54722",
      "metadata": {
        "colab": {
          "base_uri": "https://localhost:8080/"
        },
        "id": "1207f595-7a7e-4c2b-92cb-b03feda54722",
        "outputId": "49ce1499-38ec-4523-e2e9-5d7bbf2ef398"
      },
      "outputs": [
        {
          "output_type": "stream",
          "name": "stdout",
          "text": [
            "<class 'pandas.core.frame.DataFrame'>\n",
            "Int64Index: 19968 entries, 88 to 4637\n",
            "Data columns (total 29 columns):\n",
            " #   Column                               Non-Null Count  Dtype  \n",
            "---  ------                               --------------  -----  \n",
            " 0   customer_id                          19968 non-null  int64  \n",
            " 1   first_name                           19968 non-null  object \n",
            " 2   last_name                            19326 non-null  object \n",
            " 3   gender                               19968 non-null  object \n",
            " 4   past_3_years_bike_related_purchases  19968 non-null  int64  \n",
            " 5   DOB                                  19522 non-null  object \n",
            " 6   job_title                            19968 non-null  object \n",
            " 7   job_industry_category                19968 non-null  object \n",
            " 8   wealth_segment                       19968 non-null  object \n",
            " 9   deceased_indicator                   19968 non-null  bool   \n",
            " 10  owns_car                             19968 non-null  bool   \n",
            " 11  tenure                               19968 non-null  float64\n",
            " 12  address                              19968 non-null  object \n",
            " 13  postcode                             19968 non-null  int64  \n",
            " 14  state                                19968 non-null  object \n",
            " 15  country                              19968 non-null  object \n",
            " 16  property_valuation                   19968 non-null  int64  \n",
            " 17  transaction_id                       19968 non-null  int64  \n",
            " 18  product_id                           19968 non-null  int64  \n",
            " 19  transaction_date                     19968 non-null  object \n",
            " 20  online_order                         19968 non-null  float64\n",
            " 21  order_status                         19968 non-null  object \n",
            " 22  brand                                19968 non-null  object \n",
            " 23  product_line                         19968 non-null  object \n",
            " 24  product_class                        19968 non-null  object \n",
            " 25  product_size                         19968 non-null  object \n",
            " 26  list_price                           19968 non-null  float64\n",
            " 27  standard_cost                        19794 non-null  float64\n",
            " 28  product_first_sold_date              19968 non-null  float64\n",
            "dtypes: bool(2), float64(5), int64(6), object(16)\n",
            "memory usage: 4.3+ MB\n"
          ]
        }
      ],
      "source": [
        "df.info()"
      ]
    },
    {
      "cell_type": "code",
      "execution_count": 9,
      "id": "a04f38e1-cbb6-472a-8d42-f1577b7a00f2",
      "metadata": {
        "colab": {
          "base_uri": "https://localhost:8080/",
          "height": 364
        },
        "id": "a04f38e1-cbb6-472a-8d42-f1577b7a00f2",
        "outputId": "6775c5c0-e413-4cfd-bb6b-24febdd63edf"
      },
      "outputs": [
        {
          "output_type": "execute_result",
          "data": {
            "text/plain": [
              "        customer_id  past_3_years_bike_related_purchases        tenure  \\\n",
              "count  19968.000000                         19968.000000  19968.000000   \n",
              "mean    1740.254307                            48.757412     10.689052   \n",
              "std     1009.819066                            28.611359      5.611093   \n",
              "min        1.000000                             0.000000      1.000000   \n",
              "25%      861.750000                            24.000000      6.000000   \n",
              "50%     1739.500000                            48.000000     11.000000   \n",
              "75%     2614.250000                            73.000000     15.000000   \n",
              "max     3500.000000                            99.000000     22.000000   \n",
              "\n",
              "           postcode  property_valuation  transaction_id    product_id  \\\n",
              "count  19968.000000        19968.000000    19968.000000  19968.000000   \n",
              "mean    2987.623347            7.516376     9997.846504     45.365986   \n",
              "std      851.306647            2.824783     5773.929973     30.750115   \n",
              "min     2000.000000            1.000000        1.000000      0.000000   \n",
              "25%     2200.000000            6.000000     4997.750000     18.000000   \n",
              "50%     2767.000000            8.000000     9996.500000     44.000000   \n",
              "75%     3754.000000           10.000000    14996.250000     72.000000   \n",
              "max     4883.000000           12.000000    20000.000000    100.000000   \n",
              "\n",
              "       online_order    list_price  standard_cost  product_first_sold_date  \n",
              "count  19968.000000  19968.000000   19794.000000             19968.000000  \n",
              "mean       0.501102   1107.780004     556.082756             38198.751474  \n",
              "std        0.500011    582.852548     405.798188              2860.784340  \n",
              "min        0.000000     12.010000       7.210000             33259.000000  \n",
              "25%        0.000000    575.270000     215.140000             35667.000000  \n",
              "50%        1.000000   1163.890000     507.580000             38206.000000  \n",
              "75%        1.000000   1635.300000     795.100000             40672.000000  \n",
              "max        1.000000   2091.470000    1759.850000             42710.000000  "
            ],
            "text/html": [
              "\n",
              "  <div id=\"df-b10cba4c-4fe4-43b6-9076-1caf4cec72e6\">\n",
              "    <div class=\"colab-df-container\">\n",
              "      <div>\n",
              "<style scoped>\n",
              "    .dataframe tbody tr th:only-of-type {\n",
              "        vertical-align: middle;\n",
              "    }\n",
              "\n",
              "    .dataframe tbody tr th {\n",
              "        vertical-align: top;\n",
              "    }\n",
              "\n",
              "    .dataframe thead th {\n",
              "        text-align: right;\n",
              "    }\n",
              "</style>\n",
              "<table border=\"1\" class=\"dataframe\">\n",
              "  <thead>\n",
              "    <tr style=\"text-align: right;\">\n",
              "      <th></th>\n",
              "      <th>customer_id</th>\n",
              "      <th>past_3_years_bike_related_purchases</th>\n",
              "      <th>tenure</th>\n",
              "      <th>postcode</th>\n",
              "      <th>property_valuation</th>\n",
              "      <th>transaction_id</th>\n",
              "      <th>product_id</th>\n",
              "      <th>online_order</th>\n",
              "      <th>list_price</th>\n",
              "      <th>standard_cost</th>\n",
              "      <th>product_first_sold_date</th>\n",
              "    </tr>\n",
              "  </thead>\n",
              "  <tbody>\n",
              "    <tr>\n",
              "      <th>count</th>\n",
              "      <td>19968.000000</td>\n",
              "      <td>19968.000000</td>\n",
              "      <td>19968.000000</td>\n",
              "      <td>19968.000000</td>\n",
              "      <td>19968.000000</td>\n",
              "      <td>19968.000000</td>\n",
              "      <td>19968.000000</td>\n",
              "      <td>19968.000000</td>\n",
              "      <td>19968.000000</td>\n",
              "      <td>19794.000000</td>\n",
              "      <td>19968.000000</td>\n",
              "    </tr>\n",
              "    <tr>\n",
              "      <th>mean</th>\n",
              "      <td>1740.254307</td>\n",
              "      <td>48.757412</td>\n",
              "      <td>10.689052</td>\n",
              "      <td>2987.623347</td>\n",
              "      <td>7.516376</td>\n",
              "      <td>9997.846504</td>\n",
              "      <td>45.365986</td>\n",
              "      <td>0.501102</td>\n",
              "      <td>1107.780004</td>\n",
              "      <td>556.082756</td>\n",
              "      <td>38198.751474</td>\n",
              "    </tr>\n",
              "    <tr>\n",
              "      <th>std</th>\n",
              "      <td>1009.819066</td>\n",
              "      <td>28.611359</td>\n",
              "      <td>5.611093</td>\n",
              "      <td>851.306647</td>\n",
              "      <td>2.824783</td>\n",
              "      <td>5773.929973</td>\n",
              "      <td>30.750115</td>\n",
              "      <td>0.500011</td>\n",
              "      <td>582.852548</td>\n",
              "      <td>405.798188</td>\n",
              "      <td>2860.784340</td>\n",
              "    </tr>\n",
              "    <tr>\n",
              "      <th>min</th>\n",
              "      <td>1.000000</td>\n",
              "      <td>0.000000</td>\n",
              "      <td>1.000000</td>\n",
              "      <td>2000.000000</td>\n",
              "      <td>1.000000</td>\n",
              "      <td>1.000000</td>\n",
              "      <td>0.000000</td>\n",
              "      <td>0.000000</td>\n",
              "      <td>12.010000</td>\n",
              "      <td>7.210000</td>\n",
              "      <td>33259.000000</td>\n",
              "    </tr>\n",
              "    <tr>\n",
              "      <th>25%</th>\n",
              "      <td>861.750000</td>\n",
              "      <td>24.000000</td>\n",
              "      <td>6.000000</td>\n",
              "      <td>2200.000000</td>\n",
              "      <td>6.000000</td>\n",
              "      <td>4997.750000</td>\n",
              "      <td>18.000000</td>\n",
              "      <td>0.000000</td>\n",
              "      <td>575.270000</td>\n",
              "      <td>215.140000</td>\n",
              "      <td>35667.000000</td>\n",
              "    </tr>\n",
              "    <tr>\n",
              "      <th>50%</th>\n",
              "      <td>1739.500000</td>\n",
              "      <td>48.000000</td>\n",
              "      <td>11.000000</td>\n",
              "      <td>2767.000000</td>\n",
              "      <td>8.000000</td>\n",
              "      <td>9996.500000</td>\n",
              "      <td>44.000000</td>\n",
              "      <td>1.000000</td>\n",
              "      <td>1163.890000</td>\n",
              "      <td>507.580000</td>\n",
              "      <td>38206.000000</td>\n",
              "    </tr>\n",
              "    <tr>\n",
              "      <th>75%</th>\n",
              "      <td>2614.250000</td>\n",
              "      <td>73.000000</td>\n",
              "      <td>15.000000</td>\n",
              "      <td>3754.000000</td>\n",
              "      <td>10.000000</td>\n",
              "      <td>14996.250000</td>\n",
              "      <td>72.000000</td>\n",
              "      <td>1.000000</td>\n",
              "      <td>1635.300000</td>\n",
              "      <td>795.100000</td>\n",
              "      <td>40672.000000</td>\n",
              "    </tr>\n",
              "    <tr>\n",
              "      <th>max</th>\n",
              "      <td>3500.000000</td>\n",
              "      <td>99.000000</td>\n",
              "      <td>22.000000</td>\n",
              "      <td>4883.000000</td>\n",
              "      <td>12.000000</td>\n",
              "      <td>20000.000000</td>\n",
              "      <td>100.000000</td>\n",
              "      <td>1.000000</td>\n",
              "      <td>2091.470000</td>\n",
              "      <td>1759.850000</td>\n",
              "      <td>42710.000000</td>\n",
              "    </tr>\n",
              "  </tbody>\n",
              "</table>\n",
              "</div>\n",
              "      <button class=\"colab-df-convert\" onclick=\"convertToInteractive('df-b10cba4c-4fe4-43b6-9076-1caf4cec72e6')\"\n",
              "              title=\"Convert this dataframe to an interactive table.\"\n",
              "              style=\"display:none;\">\n",
              "        \n",
              "  <svg xmlns=\"http://www.w3.org/2000/svg\" height=\"24px\"viewBox=\"0 0 24 24\"\n",
              "       width=\"24px\">\n",
              "    <path d=\"M0 0h24v24H0V0z\" fill=\"none\"/>\n",
              "    <path d=\"M18.56 5.44l.94 2.06.94-2.06 2.06-.94-2.06-.94-.94-2.06-.94 2.06-2.06.94zm-11 1L8.5 8.5l.94-2.06 2.06-.94-2.06-.94L8.5 2.5l-.94 2.06-2.06.94zm10 10l.94 2.06.94-2.06 2.06-.94-2.06-.94-.94-2.06-.94 2.06-2.06.94z\"/><path d=\"M17.41 7.96l-1.37-1.37c-.4-.4-.92-.59-1.43-.59-.52 0-1.04.2-1.43.59L10.3 9.45l-7.72 7.72c-.78.78-.78 2.05 0 2.83L4 21.41c.39.39.9.59 1.41.59.51 0 1.02-.2 1.41-.59l7.78-7.78 2.81-2.81c.8-.78.8-2.07 0-2.86zM5.41 20L4 18.59l7.72-7.72 1.47 1.35L5.41 20z\"/>\n",
              "  </svg>\n",
              "      </button>\n",
              "      \n",
              "  <style>\n",
              "    .colab-df-container {\n",
              "      display:flex;\n",
              "      flex-wrap:wrap;\n",
              "      gap: 12px;\n",
              "    }\n",
              "\n",
              "    .colab-df-convert {\n",
              "      background-color: #E8F0FE;\n",
              "      border: none;\n",
              "      border-radius: 50%;\n",
              "      cursor: pointer;\n",
              "      display: none;\n",
              "      fill: #1967D2;\n",
              "      height: 32px;\n",
              "      padding: 0 0 0 0;\n",
              "      width: 32px;\n",
              "    }\n",
              "\n",
              "    .colab-df-convert:hover {\n",
              "      background-color: #E2EBFA;\n",
              "      box-shadow: 0px 1px 2px rgba(60, 64, 67, 0.3), 0px 1px 3px 1px rgba(60, 64, 67, 0.15);\n",
              "      fill: #174EA6;\n",
              "    }\n",
              "\n",
              "    [theme=dark] .colab-df-convert {\n",
              "      background-color: #3B4455;\n",
              "      fill: #D2E3FC;\n",
              "    }\n",
              "\n",
              "    [theme=dark] .colab-df-convert:hover {\n",
              "      background-color: #434B5C;\n",
              "      box-shadow: 0px 1px 3px 1px rgba(0, 0, 0, 0.15);\n",
              "      filter: drop-shadow(0px 1px 2px rgba(0, 0, 0, 0.3));\n",
              "      fill: #FFFFFF;\n",
              "    }\n",
              "  </style>\n",
              "\n",
              "      <script>\n",
              "        const buttonEl =\n",
              "          document.querySelector('#df-b10cba4c-4fe4-43b6-9076-1caf4cec72e6 button.colab-df-convert');\n",
              "        buttonEl.style.display =\n",
              "          google.colab.kernel.accessAllowed ? 'block' : 'none';\n",
              "\n",
              "        async function convertToInteractive(key) {\n",
              "          const element = document.querySelector('#df-b10cba4c-4fe4-43b6-9076-1caf4cec72e6');\n",
              "          const dataTable =\n",
              "            await google.colab.kernel.invokeFunction('convertToInteractive',\n",
              "                                                     [key], {});\n",
              "          if (!dataTable) return;\n",
              "\n",
              "          const docLinkHtml = 'Like what you see? Visit the ' +\n",
              "            '<a target=\"_blank\" href=https://colab.research.google.com/notebooks/data_table.ipynb>data table notebook</a>'\n",
              "            + ' to learn more about interactive tables.';\n",
              "          element.innerHTML = '';\n",
              "          dataTable['output_type'] = 'display_data';\n",
              "          await google.colab.output.renderOutput(dataTable, element);\n",
              "          const docLink = document.createElement('div');\n",
              "          docLink.innerHTML = docLinkHtml;\n",
              "          element.appendChild(docLink);\n",
              "        }\n",
              "      </script>\n",
              "    </div>\n",
              "  </div>\n",
              "  "
            ]
          },
          "metadata": {},
          "execution_count": 9
        }
      ],
      "source": [
        "df.describe()"
      ]
    },
    {
      "cell_type": "code",
      "execution_count": 10,
      "id": "4546e834-24e5-49ac-aab7-f1a51a7efa1b",
      "metadata": {
        "colab": {
          "base_uri": "https://localhost:8080/"
        },
        "id": "4546e834-24e5-49ac-aab7-f1a51a7efa1b",
        "outputId": "f77a1fd9-4e70-40c5-8946-0ee48e888d84"
      },
      "outputs": [
        {
          "output_type": "stream",
          "name": "stdout",
          "text": [
            "0\n"
          ]
        }
      ],
      "source": [
        "print(df.duplicated().sum())"
      ]
    },
    {
      "cell_type": "code",
      "execution_count": 11,
      "id": "b66c3782-67c4-4cfc-a1cc-89087f84fb65",
      "metadata": {
        "colab": {
          "base_uri": "https://localhost:8080/",
          "height": 206
        },
        "id": "b66c3782-67c4-4cfc-a1cc-89087f84fb65",
        "outputId": "8921f4f7-f458-4ff6-a3e1-64331027e71e"
      },
      "outputs": [
        {
          "output_type": "execute_result",
          "data": {
            "text/plain": [
              "                    missing number  missing percentage\n",
              "last_name                      642            3.215144\n",
              "DOB                            446            2.233574\n",
              "standard_cost                  174            0.871394\n",
              "customer_id                      0            0.000000\n",
              "property_valuation               0            0.000000"
            ],
            "text/html": [
              "\n",
              "  <div id=\"df-0561afa0-f6c7-45fe-bd8e-10b0702cbaff\">\n",
              "    <div class=\"colab-df-container\">\n",
              "      <div>\n",
              "<style scoped>\n",
              "    .dataframe tbody tr th:only-of-type {\n",
              "        vertical-align: middle;\n",
              "    }\n",
              "\n",
              "    .dataframe tbody tr th {\n",
              "        vertical-align: top;\n",
              "    }\n",
              "\n",
              "    .dataframe thead th {\n",
              "        text-align: right;\n",
              "    }\n",
              "</style>\n",
              "<table border=\"1\" class=\"dataframe\">\n",
              "  <thead>\n",
              "    <tr style=\"text-align: right;\">\n",
              "      <th></th>\n",
              "      <th>missing number</th>\n",
              "      <th>missing percentage</th>\n",
              "    </tr>\n",
              "  </thead>\n",
              "  <tbody>\n",
              "    <tr>\n",
              "      <th>last_name</th>\n",
              "      <td>642</td>\n",
              "      <td>3.215144</td>\n",
              "    </tr>\n",
              "    <tr>\n",
              "      <th>DOB</th>\n",
              "      <td>446</td>\n",
              "      <td>2.233574</td>\n",
              "    </tr>\n",
              "    <tr>\n",
              "      <th>standard_cost</th>\n",
              "      <td>174</td>\n",
              "      <td>0.871394</td>\n",
              "    </tr>\n",
              "    <tr>\n",
              "      <th>customer_id</th>\n",
              "      <td>0</td>\n",
              "      <td>0.000000</td>\n",
              "    </tr>\n",
              "    <tr>\n",
              "      <th>property_valuation</th>\n",
              "      <td>0</td>\n",
              "      <td>0.000000</td>\n",
              "    </tr>\n",
              "  </tbody>\n",
              "</table>\n",
              "</div>\n",
              "      <button class=\"colab-df-convert\" onclick=\"convertToInteractive('df-0561afa0-f6c7-45fe-bd8e-10b0702cbaff')\"\n",
              "              title=\"Convert this dataframe to an interactive table.\"\n",
              "              style=\"display:none;\">\n",
              "        \n",
              "  <svg xmlns=\"http://www.w3.org/2000/svg\" height=\"24px\"viewBox=\"0 0 24 24\"\n",
              "       width=\"24px\">\n",
              "    <path d=\"M0 0h24v24H0V0z\" fill=\"none\"/>\n",
              "    <path d=\"M18.56 5.44l.94 2.06.94-2.06 2.06-.94-2.06-.94-.94-2.06-.94 2.06-2.06.94zm-11 1L8.5 8.5l.94-2.06 2.06-.94-2.06-.94L8.5 2.5l-.94 2.06-2.06.94zm10 10l.94 2.06.94-2.06 2.06-.94-2.06-.94-.94-2.06-.94 2.06-2.06.94z\"/><path d=\"M17.41 7.96l-1.37-1.37c-.4-.4-.92-.59-1.43-.59-.52 0-1.04.2-1.43.59L10.3 9.45l-7.72 7.72c-.78.78-.78 2.05 0 2.83L4 21.41c.39.39.9.59 1.41.59.51 0 1.02-.2 1.41-.59l7.78-7.78 2.81-2.81c.8-.78.8-2.07 0-2.86zM5.41 20L4 18.59l7.72-7.72 1.47 1.35L5.41 20z\"/>\n",
              "  </svg>\n",
              "      </button>\n",
              "      \n",
              "  <style>\n",
              "    .colab-df-container {\n",
              "      display:flex;\n",
              "      flex-wrap:wrap;\n",
              "      gap: 12px;\n",
              "    }\n",
              "\n",
              "    .colab-df-convert {\n",
              "      background-color: #E8F0FE;\n",
              "      border: none;\n",
              "      border-radius: 50%;\n",
              "      cursor: pointer;\n",
              "      display: none;\n",
              "      fill: #1967D2;\n",
              "      height: 32px;\n",
              "      padding: 0 0 0 0;\n",
              "      width: 32px;\n",
              "    }\n",
              "\n",
              "    .colab-df-convert:hover {\n",
              "      background-color: #E2EBFA;\n",
              "      box-shadow: 0px 1px 2px rgba(60, 64, 67, 0.3), 0px 1px 3px 1px rgba(60, 64, 67, 0.15);\n",
              "      fill: #174EA6;\n",
              "    }\n",
              "\n",
              "    [theme=dark] .colab-df-convert {\n",
              "      background-color: #3B4455;\n",
              "      fill: #D2E3FC;\n",
              "    }\n",
              "\n",
              "    [theme=dark] .colab-df-convert:hover {\n",
              "      background-color: #434B5C;\n",
              "      box-shadow: 0px 1px 3px 1px rgba(0, 0, 0, 0.15);\n",
              "      filter: drop-shadow(0px 1px 2px rgba(0, 0, 0, 0.3));\n",
              "      fill: #FFFFFF;\n",
              "    }\n",
              "  </style>\n",
              "\n",
              "      <script>\n",
              "        const buttonEl =\n",
              "          document.querySelector('#df-0561afa0-f6c7-45fe-bd8e-10b0702cbaff button.colab-df-convert');\n",
              "        buttonEl.style.display =\n",
              "          google.colab.kernel.accessAllowed ? 'block' : 'none';\n",
              "\n",
              "        async function convertToInteractive(key) {\n",
              "          const element = document.querySelector('#df-0561afa0-f6c7-45fe-bd8e-10b0702cbaff');\n",
              "          const dataTable =\n",
              "            await google.colab.kernel.invokeFunction('convertToInteractive',\n",
              "                                                     [key], {});\n",
              "          if (!dataTable) return;\n",
              "\n",
              "          const docLinkHtml = 'Like what you see? Visit the ' +\n",
              "            '<a target=\"_blank\" href=https://colab.research.google.com/notebooks/data_table.ipynb>data table notebook</a>'\n",
              "            + ' to learn more about interactive tables.';\n",
              "          element.innerHTML = '';\n",
              "          dataTable['output_type'] = 'display_data';\n",
              "          await google.colab.output.renderOutput(dataTable, element);\n",
              "          const docLink = document.createElement('div');\n",
              "          docLink.innerHTML = docLinkHtml;\n",
              "          element.appendChild(docLink);\n",
              "        }\n",
              "      </script>\n",
              "    </div>\n",
              "  </div>\n",
              "  "
            ]
          },
          "metadata": {},
          "execution_count": 11
        }
      ],
      "source": [
        "# count rows of missing data for each column\n",
        "missing_number=df.isnull().sum().sort_values(ascending=False)\n",
        "\n",
        "# Calculate percentage of null value\n",
        "missing_percentage=missing_number*100/len(df)\n",
        "missing_info=pd.concat([missing_number,missing_percentage],axis=1,keys=['missing number','missing percentage'])\n",
        "missing_info.head()"
      ]
    },
    {
      "cell_type": "code",
      "execution_count": 12,
      "id": "31c707f7-dd7d-4114-963f-ea95a6210792",
      "metadata": {
        "id": "31c707f7-dd7d-4114-963f-ea95a6210792"
      },
      "outputs": [],
      "source": [
        "df['last_name'].fillna(method='ffill', inplace = True)"
      ]
    },
    {
      "cell_type": "code",
      "execution_count": 13,
      "id": "09d8a97e-fc9c-4057-b026-9b2a3d355a78",
      "metadata": {
        "id": "09d8a97e-fc9c-4057-b026-9b2a3d355a78"
      },
      "outputs": [],
      "source": [
        "df['DOB'].fillna(method='ffill', inplace = True)"
      ]
    },
    {
      "cell_type": "code",
      "execution_count": 14,
      "id": "539035b3-56dc-48ea-9fe7-ba27574a7599",
      "metadata": {
        "colab": {
          "base_uri": "https://localhost:8080/"
        },
        "id": "539035b3-56dc-48ea-9fe7-ba27574a7599",
        "outputId": "aa1d56e0-610c-4187-f0c9-ee9f49b12c3e"
      },
      "outputs": [
        {
          "output_type": "execute_result",
          "data": {
            "text/plain": [
              "0    388.92\n",
              "dtype: float64"
            ]
          },
          "metadata": {},
          "execution_count": 14
        }
      ],
      "source": [
        "df.standard_cost.mode()"
      ]
    },
    {
      "cell_type": "code",
      "execution_count": 15,
      "id": "ec750977-2285-4e49-978a-648dde95d644",
      "metadata": {
        "colab": {
          "base_uri": "https://localhost:8080/"
        },
        "id": "ec750977-2285-4e49-978a-648dde95d644",
        "outputId": "650c72d3-1f1e-48f8-cc1b-f133f1dda220"
      },
      "outputs": [
        {
          "output_type": "execute_result",
          "data": {
            "text/plain": [
              "556.082755885636"
            ]
          },
          "metadata": {},
          "execution_count": 15
        }
      ],
      "source": [
        "df.standard_cost.mean()"
      ]
    },
    {
      "cell_type": "code",
      "execution_count": 16,
      "id": "c7e3086c-62fa-47fb-be65-c9681c10cc7f",
      "metadata": {
        "id": "c7e3086c-62fa-47fb-be65-c9681c10cc7f"
      },
      "outputs": [],
      "source": [
        "df['standard_cost'].fillna(df['standard_cost'].mean(), inplace = True)"
      ]
    },
    {
      "cell_type": "code",
      "execution_count": 17,
      "id": "a103cb2c-97fb-4f3e-9ce4-04025d67168c",
      "metadata": {
        "id": "a103cb2c-97fb-4f3e-9ce4-04025d67168c"
      },
      "outputs": [],
      "source": [
        "df['DOB'] = df['DOB'].apply(pd.to_datetime)"
      ]
    },
    {
      "cell_type": "code",
      "execution_count": 18,
      "id": "d8d8f46c-c7f8-4950-aa6d-065ea50e0455",
      "metadata": {
        "colab": {
          "base_uri": "https://localhost:8080/"
        },
        "id": "d8d8f46c-c7f8-4950-aa6d-065ea50e0455",
        "outputId": "bb9aefe9-09db-46ac-d87b-6fdaafad9f61"
      },
      "outputs": [
        {
          "output_type": "execute_result",
          "data": {
            "text/plain": [
              "customer_id                                     int64\n",
              "first_name                                     object\n",
              "last_name                                      object\n",
              "gender                                         object\n",
              "past_3_years_bike_related_purchases             int64\n",
              "DOB                                    datetime64[ns]\n",
              "job_title                                      object\n",
              "job_industry_category                          object\n",
              "wealth_segment                                 object\n",
              "deceased_indicator                               bool\n",
              "owns_car                                         bool\n",
              "tenure                                        float64\n",
              "address                                        object\n",
              "postcode                                        int64\n",
              "state                                          object\n",
              "country                                        object\n",
              "property_valuation                              int64\n",
              "transaction_id                                  int64\n",
              "product_id                                      int64\n",
              "transaction_date                               object\n",
              "online_order                                  float64\n",
              "order_status                                   object\n",
              "brand                                          object\n",
              "product_line                                   object\n",
              "product_class                                  object\n",
              "product_size                                   object\n",
              "list_price                                    float64\n",
              "standard_cost                                 float64\n",
              "product_first_sold_date                       float64\n",
              "dtype: object"
            ]
          },
          "metadata": {},
          "execution_count": 18
        }
      ],
      "source": [
        "df.dtypes"
      ]
    },
    {
      "cell_type": "code",
      "execution_count": 19,
      "id": "cb0d55b1-f583-461c-8682-46bec7cbcdff",
      "metadata": {
        "id": "cb0d55b1-f583-461c-8682-46bec7cbcdff"
      },
      "outputs": [],
      "source": [
        "ref_date = dt.datetime.now()\n",
        "df['Age'] = df['DOB'].apply(lambda x: len(pd.date_range(start = x, end = ref_date, freq = 'Y')))\n",
        "\n",
        "df = df[df.Age < 100]"
      ]
    },
    {
      "cell_type": "code",
      "execution_count": 20,
      "id": "676e4b6b-1376-4acc-8f1b-9ed4c6ece95c",
      "metadata": {
        "colab": {
          "base_uri": "https://localhost:8080/"
        },
        "id": "676e4b6b-1376-4acc-8f1b-9ed4c6ece95c",
        "outputId": "b601ac14-6f96-4703-f8ce-cbd9a4ff8618"
      },
      "outputs": [
        {
          "output_type": "stream",
          "name": "stderr",
          "text": [
            "/usr/local/lib/python3.7/dist-packages/ipykernel_launcher.py:1: SettingWithCopyWarning: \n",
            "A value is trying to be set on a copy of a slice from a DataFrame.\n",
            "Try using .loc[row_indexer,col_indexer] = value instead\n",
            "\n",
            "See the caveats in the documentation: https://pandas.pydata.org/pandas-docs/stable/user_guide/indexing.html#returning-a-view-versus-a-copy\n",
            "  \"\"\"Entry point for launching an IPython kernel.\n"
          ]
        }
      ],
      "source": [
        "df['transaction_month'] = pd.DatetimeIndex(df['DOB']).month"
      ]
    },
    {
      "cell_type": "code",
      "execution_count": 21,
      "id": "2a3a6f39-dd5f-49a8-9473-d6f5818386b1",
      "metadata": {
        "colab": {
          "base_uri": "https://localhost:8080/"
        },
        "id": "2a3a6f39-dd5f-49a8-9473-d6f5818386b1",
        "outputId": "55ebbcd7-2424-4f20-9d61-b28de92d81f0"
      },
      "outputs": [
        {
          "output_type": "stream",
          "name": "stderr",
          "text": [
            "/usr/local/lib/python3.7/dist-packages/ipykernel_launcher.py:1: SettingWithCopyWarning: \n",
            "A value is trying to be set on a copy of a slice from a DataFrame.\n",
            "Try using .loc[row_indexer,col_indexer] = value instead\n",
            "\n",
            "See the caveats in the documentation: https://pandas.pydata.org/pandas-docs/stable/user_guide/indexing.html#returning-a-view-versus-a-copy\n",
            "  \"\"\"Entry point for launching an IPython kernel.\n"
          ]
        }
      ],
      "source": [
        "df['profit'] = df['list_price'] - df['standard_cost']"
      ]
    },
    {
      "cell_type": "code",
      "execution_count": 22,
      "id": "19b68964-9405-4529-8966-096062c14a7c",
      "metadata": {
        "colab": {
          "base_uri": "https://localhost:8080/",
          "height": 386
        },
        "id": "19b68964-9405-4529-8966-096062c14a7c",
        "outputId": "306c325c-3d89-4672-e832-19f4b01e9938"
      },
      "outputs": [
        {
          "output_type": "execute_result",
          "data": {
            "text/plain": [
              "    customer_id first_name  last_name  gender  \\\n",
              "88            1    Laraine  Medendorp  Female   \n",
              "85            1    Laraine  Medendorp  Female   \n",
              "86            1    Laraine  Medendorp  Female   \n",
              "87            1    Laraine  Medendorp  Female   \n",
              "89            1    Laraine  Medendorp  Female   \n",
              "\n",
              "    past_3_years_bike_related_purchases        DOB            job_title  \\\n",
              "88                                   93 1953-10-12  Executive Secretary   \n",
              "85                                   93 1953-10-12  Executive Secretary   \n",
              "86                                   93 1953-10-12  Executive Secretary   \n",
              "87                                   93 1953-10-12  Executive Secretary   \n",
              "89                                   93 1953-10-12  Executive Secretary   \n",
              "\n",
              "   job_industry_category wealth_segment  deceased_indicator  ...  \\\n",
              "88                Health  Mass Customer               False  ...   \n",
              "85                Health  Mass Customer               False  ...   \n",
              "86                Health  Mass Customer               False  ...   \n",
              "87                Health  Mass Customer               False  ...   \n",
              "89                Health  Mass Customer               False  ...   \n",
              "\n",
              "             brand  product_line product_class  product_size list_price  \\\n",
              "88   Trek Bicycles          Road           low         small    1720.70   \n",
              "85  Norco Bicycles      Mountain           low         small     688.63   \n",
              "86  Giant Bicycles      Standard          high        medium    1274.93   \n",
              "87           Solex      Standard        medium        medium    1577.53   \n",
              "89  Giant Bicycles          Road        medium        medium    1538.99   \n",
              "\n",
              "   standard_cost  product_first_sold_date  Age  transaction_month  profit  \n",
              "88       1531.42                  37823.0   69                 10  189.28  \n",
              "85        612.88                  33455.0   69                 10   75.75  \n",
              "86        764.96                  35378.0   69                 10  509.97  \n",
              "87        826.51                  39526.0   69                 10  751.02  \n",
              "89        829.65                  33552.0   69                 10  709.34  \n",
              "\n",
              "[5 rows x 32 columns]"
            ],
            "text/html": [
              "\n",
              "  <div id=\"df-14960e98-fa1b-49bf-af31-21aefea5f4bb\">\n",
              "    <div class=\"colab-df-container\">\n",
              "      <div>\n",
              "<style scoped>\n",
              "    .dataframe tbody tr th:only-of-type {\n",
              "        vertical-align: middle;\n",
              "    }\n",
              "\n",
              "    .dataframe tbody tr th {\n",
              "        vertical-align: top;\n",
              "    }\n",
              "\n",
              "    .dataframe thead th {\n",
              "        text-align: right;\n",
              "    }\n",
              "</style>\n",
              "<table border=\"1\" class=\"dataframe\">\n",
              "  <thead>\n",
              "    <tr style=\"text-align: right;\">\n",
              "      <th></th>\n",
              "      <th>customer_id</th>\n",
              "      <th>first_name</th>\n",
              "      <th>last_name</th>\n",
              "      <th>gender</th>\n",
              "      <th>past_3_years_bike_related_purchases</th>\n",
              "      <th>DOB</th>\n",
              "      <th>job_title</th>\n",
              "      <th>job_industry_category</th>\n",
              "      <th>wealth_segment</th>\n",
              "      <th>deceased_indicator</th>\n",
              "      <th>...</th>\n",
              "      <th>brand</th>\n",
              "      <th>product_line</th>\n",
              "      <th>product_class</th>\n",
              "      <th>product_size</th>\n",
              "      <th>list_price</th>\n",
              "      <th>standard_cost</th>\n",
              "      <th>product_first_sold_date</th>\n",
              "      <th>Age</th>\n",
              "      <th>transaction_month</th>\n",
              "      <th>profit</th>\n",
              "    </tr>\n",
              "  </thead>\n",
              "  <tbody>\n",
              "    <tr>\n",
              "      <th>88</th>\n",
              "      <td>1</td>\n",
              "      <td>Laraine</td>\n",
              "      <td>Medendorp</td>\n",
              "      <td>Female</td>\n",
              "      <td>93</td>\n",
              "      <td>1953-10-12</td>\n",
              "      <td>Executive Secretary</td>\n",
              "      <td>Health</td>\n",
              "      <td>Mass Customer</td>\n",
              "      <td>False</td>\n",
              "      <td>...</td>\n",
              "      <td>Trek Bicycles</td>\n",
              "      <td>Road</td>\n",
              "      <td>low</td>\n",
              "      <td>small</td>\n",
              "      <td>1720.70</td>\n",
              "      <td>1531.42</td>\n",
              "      <td>37823.0</td>\n",
              "      <td>69</td>\n",
              "      <td>10</td>\n",
              "      <td>189.28</td>\n",
              "    </tr>\n",
              "    <tr>\n",
              "      <th>85</th>\n",
              "      <td>1</td>\n",
              "      <td>Laraine</td>\n",
              "      <td>Medendorp</td>\n",
              "      <td>Female</td>\n",
              "      <td>93</td>\n",
              "      <td>1953-10-12</td>\n",
              "      <td>Executive Secretary</td>\n",
              "      <td>Health</td>\n",
              "      <td>Mass Customer</td>\n",
              "      <td>False</td>\n",
              "      <td>...</td>\n",
              "      <td>Norco Bicycles</td>\n",
              "      <td>Mountain</td>\n",
              "      <td>low</td>\n",
              "      <td>small</td>\n",
              "      <td>688.63</td>\n",
              "      <td>612.88</td>\n",
              "      <td>33455.0</td>\n",
              "      <td>69</td>\n",
              "      <td>10</td>\n",
              "      <td>75.75</td>\n",
              "    </tr>\n",
              "    <tr>\n",
              "      <th>86</th>\n",
              "      <td>1</td>\n",
              "      <td>Laraine</td>\n",
              "      <td>Medendorp</td>\n",
              "      <td>Female</td>\n",
              "      <td>93</td>\n",
              "      <td>1953-10-12</td>\n",
              "      <td>Executive Secretary</td>\n",
              "      <td>Health</td>\n",
              "      <td>Mass Customer</td>\n",
              "      <td>False</td>\n",
              "      <td>...</td>\n",
              "      <td>Giant Bicycles</td>\n",
              "      <td>Standard</td>\n",
              "      <td>high</td>\n",
              "      <td>medium</td>\n",
              "      <td>1274.93</td>\n",
              "      <td>764.96</td>\n",
              "      <td>35378.0</td>\n",
              "      <td>69</td>\n",
              "      <td>10</td>\n",
              "      <td>509.97</td>\n",
              "    </tr>\n",
              "    <tr>\n",
              "      <th>87</th>\n",
              "      <td>1</td>\n",
              "      <td>Laraine</td>\n",
              "      <td>Medendorp</td>\n",
              "      <td>Female</td>\n",
              "      <td>93</td>\n",
              "      <td>1953-10-12</td>\n",
              "      <td>Executive Secretary</td>\n",
              "      <td>Health</td>\n",
              "      <td>Mass Customer</td>\n",
              "      <td>False</td>\n",
              "      <td>...</td>\n",
              "      <td>Solex</td>\n",
              "      <td>Standard</td>\n",
              "      <td>medium</td>\n",
              "      <td>medium</td>\n",
              "      <td>1577.53</td>\n",
              "      <td>826.51</td>\n",
              "      <td>39526.0</td>\n",
              "      <td>69</td>\n",
              "      <td>10</td>\n",
              "      <td>751.02</td>\n",
              "    </tr>\n",
              "    <tr>\n",
              "      <th>89</th>\n",
              "      <td>1</td>\n",
              "      <td>Laraine</td>\n",
              "      <td>Medendorp</td>\n",
              "      <td>Female</td>\n",
              "      <td>93</td>\n",
              "      <td>1953-10-12</td>\n",
              "      <td>Executive Secretary</td>\n",
              "      <td>Health</td>\n",
              "      <td>Mass Customer</td>\n",
              "      <td>False</td>\n",
              "      <td>...</td>\n",
              "      <td>Giant Bicycles</td>\n",
              "      <td>Road</td>\n",
              "      <td>medium</td>\n",
              "      <td>medium</td>\n",
              "      <td>1538.99</td>\n",
              "      <td>829.65</td>\n",
              "      <td>33552.0</td>\n",
              "      <td>69</td>\n",
              "      <td>10</td>\n",
              "      <td>709.34</td>\n",
              "    </tr>\n",
              "  </tbody>\n",
              "</table>\n",
              "<p>5 rows × 32 columns</p>\n",
              "</div>\n",
              "      <button class=\"colab-df-convert\" onclick=\"convertToInteractive('df-14960e98-fa1b-49bf-af31-21aefea5f4bb')\"\n",
              "              title=\"Convert this dataframe to an interactive table.\"\n",
              "              style=\"display:none;\">\n",
              "        \n",
              "  <svg xmlns=\"http://www.w3.org/2000/svg\" height=\"24px\"viewBox=\"0 0 24 24\"\n",
              "       width=\"24px\">\n",
              "    <path d=\"M0 0h24v24H0V0z\" fill=\"none\"/>\n",
              "    <path d=\"M18.56 5.44l.94 2.06.94-2.06 2.06-.94-2.06-.94-.94-2.06-.94 2.06-2.06.94zm-11 1L8.5 8.5l.94-2.06 2.06-.94-2.06-.94L8.5 2.5l-.94 2.06-2.06.94zm10 10l.94 2.06.94-2.06 2.06-.94-2.06-.94-.94-2.06-.94 2.06-2.06.94z\"/><path d=\"M17.41 7.96l-1.37-1.37c-.4-.4-.92-.59-1.43-.59-.52 0-1.04.2-1.43.59L10.3 9.45l-7.72 7.72c-.78.78-.78 2.05 0 2.83L4 21.41c.39.39.9.59 1.41.59.51 0 1.02-.2 1.41-.59l7.78-7.78 2.81-2.81c.8-.78.8-2.07 0-2.86zM5.41 20L4 18.59l7.72-7.72 1.47 1.35L5.41 20z\"/>\n",
              "  </svg>\n",
              "      </button>\n",
              "      \n",
              "  <style>\n",
              "    .colab-df-container {\n",
              "      display:flex;\n",
              "      flex-wrap:wrap;\n",
              "      gap: 12px;\n",
              "    }\n",
              "\n",
              "    .colab-df-convert {\n",
              "      background-color: #E8F0FE;\n",
              "      border: none;\n",
              "      border-radius: 50%;\n",
              "      cursor: pointer;\n",
              "      display: none;\n",
              "      fill: #1967D2;\n",
              "      height: 32px;\n",
              "      padding: 0 0 0 0;\n",
              "      width: 32px;\n",
              "    }\n",
              "\n",
              "    .colab-df-convert:hover {\n",
              "      background-color: #E2EBFA;\n",
              "      box-shadow: 0px 1px 2px rgba(60, 64, 67, 0.3), 0px 1px 3px 1px rgba(60, 64, 67, 0.15);\n",
              "      fill: #174EA6;\n",
              "    }\n",
              "\n",
              "    [theme=dark] .colab-df-convert {\n",
              "      background-color: #3B4455;\n",
              "      fill: #D2E3FC;\n",
              "    }\n",
              "\n",
              "    [theme=dark] .colab-df-convert:hover {\n",
              "      background-color: #434B5C;\n",
              "      box-shadow: 0px 1px 3px 1px rgba(0, 0, 0, 0.15);\n",
              "      filter: drop-shadow(0px 1px 2px rgba(0, 0, 0, 0.3));\n",
              "      fill: #FFFFFF;\n",
              "    }\n",
              "  </style>\n",
              "\n",
              "      <script>\n",
              "        const buttonEl =\n",
              "          document.querySelector('#df-14960e98-fa1b-49bf-af31-21aefea5f4bb button.colab-df-convert');\n",
              "        buttonEl.style.display =\n",
              "          google.colab.kernel.accessAllowed ? 'block' : 'none';\n",
              "\n",
              "        async function convertToInteractive(key) {\n",
              "          const element = document.querySelector('#df-14960e98-fa1b-49bf-af31-21aefea5f4bb');\n",
              "          const dataTable =\n",
              "            await google.colab.kernel.invokeFunction('convertToInteractive',\n",
              "                                                     [key], {});\n",
              "          if (!dataTable) return;\n",
              "\n",
              "          const docLinkHtml = 'Like what you see? Visit the ' +\n",
              "            '<a target=\"_blank\" href=https://colab.research.google.com/notebooks/data_table.ipynb>data table notebook</a>'\n",
              "            + ' to learn more about interactive tables.';\n",
              "          element.innerHTML = '';\n",
              "          dataTable['output_type'] = 'display_data';\n",
              "          await google.colab.output.renderOutput(dataTable, element);\n",
              "          const docLink = document.createElement('div');\n",
              "          docLink.innerHTML = docLinkHtml;\n",
              "          element.appendChild(docLink);\n",
              "        }\n",
              "      </script>\n",
              "    </div>\n",
              "  </div>\n",
              "  "
            ]
          },
          "metadata": {},
          "execution_count": 22
        }
      ],
      "source": [
        "df.head()"
      ]
    },
    {
      "cell_type": "code",
      "execution_count": 23,
      "id": "cbf8ef86-1828-4a31-8c8d-e362b32cde57",
      "metadata": {
        "colab": {
          "base_uri": "https://localhost:8080/",
          "height": 386
        },
        "id": "cbf8ef86-1828-4a31-8c8d-e362b32cde57",
        "outputId": "2002f3e4-9e1a-423e-8454-b5d5326f8674"
      },
      "outputs": [
        {
          "output_type": "execute_result",
          "data": {
            "text/plain": [
              "      customer_id first_name last_name  gender  \\\n",
              "4636         3500       Josy   Fleeman  Female   \n",
              "4635         3500       Josy   Fleeman  Female   \n",
              "4634         3500       Josy   Fleeman  Female   \n",
              "4633         3500       Josy   Fleeman  Female   \n",
              "4637         3500       Josy   Fleeman  Female   \n",
              "\n",
              "      past_3_years_bike_related_purchases        DOB               job_title  \\\n",
              "4636                                   71 1967-07-21  Administrative Officer   \n",
              "4635                                   71 1967-07-21  Administrative Officer   \n",
              "4634                                   71 1967-07-21  Administrative Officer   \n",
              "4633                                   71 1967-07-21  Administrative Officer   \n",
              "4637                                   71 1967-07-21  Administrative Officer   \n",
              "\n",
              "     job_industry_category     wealth_segment  deceased_indicator  ...  \\\n",
              "4636         Entertainment  Affluent Customer               False  ...   \n",
              "4635         Entertainment  Affluent Customer               False  ...   \n",
              "4634         Entertainment  Affluent Customer               False  ...   \n",
              "4633         Entertainment  Affluent Customer               False  ...   \n",
              "4637         Entertainment  Affluent Customer               False  ...   \n",
              "\n",
              "               brand  product_line product_class  product_size list_price  \\\n",
              "4636      OHM Cycles      Standard          high        medium    1458.17   \n",
              "4635        WeareA2B      Standard        medium        medium    1228.07   \n",
              "4634        WeareA2B      Standard        medium        medium      60.34   \n",
              "4633  Giant Bicycles          Road        medium        medium     792.90   \n",
              "4637           Solex      Standard        medium        medium      71.49   \n",
              "\n",
              "     standard_cost  product_first_sold_date  Age  transaction_month  profit  \n",
              "4636        874.90                  38750.0   55                  7  583.27  \n",
              "4635        400.91                  36668.0   55                  7  827.16  \n",
              "4634         45.26                  34165.0   55                  7   15.08  \n",
              "4633        594.68                  33879.0   55                  7  198.22  \n",
              "4637         53.62                  41245.0   55                  7   17.87  \n",
              "\n",
              "[5 rows x 32 columns]"
            ],
            "text/html": [
              "\n",
              "  <div id=\"df-5379e74a-4df2-42b7-89a6-de0f4ef0a782\">\n",
              "    <div class=\"colab-df-container\">\n",
              "      <div>\n",
              "<style scoped>\n",
              "    .dataframe tbody tr th:only-of-type {\n",
              "        vertical-align: middle;\n",
              "    }\n",
              "\n",
              "    .dataframe tbody tr th {\n",
              "        vertical-align: top;\n",
              "    }\n",
              "\n",
              "    .dataframe thead th {\n",
              "        text-align: right;\n",
              "    }\n",
              "</style>\n",
              "<table border=\"1\" class=\"dataframe\">\n",
              "  <thead>\n",
              "    <tr style=\"text-align: right;\">\n",
              "      <th></th>\n",
              "      <th>customer_id</th>\n",
              "      <th>first_name</th>\n",
              "      <th>last_name</th>\n",
              "      <th>gender</th>\n",
              "      <th>past_3_years_bike_related_purchases</th>\n",
              "      <th>DOB</th>\n",
              "      <th>job_title</th>\n",
              "      <th>job_industry_category</th>\n",
              "      <th>wealth_segment</th>\n",
              "      <th>deceased_indicator</th>\n",
              "      <th>...</th>\n",
              "      <th>brand</th>\n",
              "      <th>product_line</th>\n",
              "      <th>product_class</th>\n",
              "      <th>product_size</th>\n",
              "      <th>list_price</th>\n",
              "      <th>standard_cost</th>\n",
              "      <th>product_first_sold_date</th>\n",
              "      <th>Age</th>\n",
              "      <th>transaction_month</th>\n",
              "      <th>profit</th>\n",
              "    </tr>\n",
              "  </thead>\n",
              "  <tbody>\n",
              "    <tr>\n",
              "      <th>4636</th>\n",
              "      <td>3500</td>\n",
              "      <td>Josy</td>\n",
              "      <td>Fleeman</td>\n",
              "      <td>Female</td>\n",
              "      <td>71</td>\n",
              "      <td>1967-07-21</td>\n",
              "      <td>Administrative Officer</td>\n",
              "      <td>Entertainment</td>\n",
              "      <td>Affluent Customer</td>\n",
              "      <td>False</td>\n",
              "      <td>...</td>\n",
              "      <td>OHM Cycles</td>\n",
              "      <td>Standard</td>\n",
              "      <td>high</td>\n",
              "      <td>medium</td>\n",
              "      <td>1458.17</td>\n",
              "      <td>874.90</td>\n",
              "      <td>38750.0</td>\n",
              "      <td>55</td>\n",
              "      <td>7</td>\n",
              "      <td>583.27</td>\n",
              "    </tr>\n",
              "    <tr>\n",
              "      <th>4635</th>\n",
              "      <td>3500</td>\n",
              "      <td>Josy</td>\n",
              "      <td>Fleeman</td>\n",
              "      <td>Female</td>\n",
              "      <td>71</td>\n",
              "      <td>1967-07-21</td>\n",
              "      <td>Administrative Officer</td>\n",
              "      <td>Entertainment</td>\n",
              "      <td>Affluent Customer</td>\n",
              "      <td>False</td>\n",
              "      <td>...</td>\n",
              "      <td>WeareA2B</td>\n",
              "      <td>Standard</td>\n",
              "      <td>medium</td>\n",
              "      <td>medium</td>\n",
              "      <td>1228.07</td>\n",
              "      <td>400.91</td>\n",
              "      <td>36668.0</td>\n",
              "      <td>55</td>\n",
              "      <td>7</td>\n",
              "      <td>827.16</td>\n",
              "    </tr>\n",
              "    <tr>\n",
              "      <th>4634</th>\n",
              "      <td>3500</td>\n",
              "      <td>Josy</td>\n",
              "      <td>Fleeman</td>\n",
              "      <td>Female</td>\n",
              "      <td>71</td>\n",
              "      <td>1967-07-21</td>\n",
              "      <td>Administrative Officer</td>\n",
              "      <td>Entertainment</td>\n",
              "      <td>Affluent Customer</td>\n",
              "      <td>False</td>\n",
              "      <td>...</td>\n",
              "      <td>WeareA2B</td>\n",
              "      <td>Standard</td>\n",
              "      <td>medium</td>\n",
              "      <td>medium</td>\n",
              "      <td>60.34</td>\n",
              "      <td>45.26</td>\n",
              "      <td>34165.0</td>\n",
              "      <td>55</td>\n",
              "      <td>7</td>\n",
              "      <td>15.08</td>\n",
              "    </tr>\n",
              "    <tr>\n",
              "      <th>4633</th>\n",
              "      <td>3500</td>\n",
              "      <td>Josy</td>\n",
              "      <td>Fleeman</td>\n",
              "      <td>Female</td>\n",
              "      <td>71</td>\n",
              "      <td>1967-07-21</td>\n",
              "      <td>Administrative Officer</td>\n",
              "      <td>Entertainment</td>\n",
              "      <td>Affluent Customer</td>\n",
              "      <td>False</td>\n",
              "      <td>...</td>\n",
              "      <td>Giant Bicycles</td>\n",
              "      <td>Road</td>\n",
              "      <td>medium</td>\n",
              "      <td>medium</td>\n",
              "      <td>792.90</td>\n",
              "      <td>594.68</td>\n",
              "      <td>33879.0</td>\n",
              "      <td>55</td>\n",
              "      <td>7</td>\n",
              "      <td>198.22</td>\n",
              "    </tr>\n",
              "    <tr>\n",
              "      <th>4637</th>\n",
              "      <td>3500</td>\n",
              "      <td>Josy</td>\n",
              "      <td>Fleeman</td>\n",
              "      <td>Female</td>\n",
              "      <td>71</td>\n",
              "      <td>1967-07-21</td>\n",
              "      <td>Administrative Officer</td>\n",
              "      <td>Entertainment</td>\n",
              "      <td>Affluent Customer</td>\n",
              "      <td>False</td>\n",
              "      <td>...</td>\n",
              "      <td>Solex</td>\n",
              "      <td>Standard</td>\n",
              "      <td>medium</td>\n",
              "      <td>medium</td>\n",
              "      <td>71.49</td>\n",
              "      <td>53.62</td>\n",
              "      <td>41245.0</td>\n",
              "      <td>55</td>\n",
              "      <td>7</td>\n",
              "      <td>17.87</td>\n",
              "    </tr>\n",
              "  </tbody>\n",
              "</table>\n",
              "<p>5 rows × 32 columns</p>\n",
              "</div>\n",
              "      <button class=\"colab-df-convert\" onclick=\"convertToInteractive('df-5379e74a-4df2-42b7-89a6-de0f4ef0a782')\"\n",
              "              title=\"Convert this dataframe to an interactive table.\"\n",
              "              style=\"display:none;\">\n",
              "        \n",
              "  <svg xmlns=\"http://www.w3.org/2000/svg\" height=\"24px\"viewBox=\"0 0 24 24\"\n",
              "       width=\"24px\">\n",
              "    <path d=\"M0 0h24v24H0V0z\" fill=\"none\"/>\n",
              "    <path d=\"M18.56 5.44l.94 2.06.94-2.06 2.06-.94-2.06-.94-.94-2.06-.94 2.06-2.06.94zm-11 1L8.5 8.5l.94-2.06 2.06-.94-2.06-.94L8.5 2.5l-.94 2.06-2.06.94zm10 10l.94 2.06.94-2.06 2.06-.94-2.06-.94-.94-2.06-.94 2.06-2.06.94z\"/><path d=\"M17.41 7.96l-1.37-1.37c-.4-.4-.92-.59-1.43-.59-.52 0-1.04.2-1.43.59L10.3 9.45l-7.72 7.72c-.78.78-.78 2.05 0 2.83L4 21.41c.39.39.9.59 1.41.59.51 0 1.02-.2 1.41-.59l7.78-7.78 2.81-2.81c.8-.78.8-2.07 0-2.86zM5.41 20L4 18.59l7.72-7.72 1.47 1.35L5.41 20z\"/>\n",
              "  </svg>\n",
              "      </button>\n",
              "      \n",
              "  <style>\n",
              "    .colab-df-container {\n",
              "      display:flex;\n",
              "      flex-wrap:wrap;\n",
              "      gap: 12px;\n",
              "    }\n",
              "\n",
              "    .colab-df-convert {\n",
              "      background-color: #E8F0FE;\n",
              "      border: none;\n",
              "      border-radius: 50%;\n",
              "      cursor: pointer;\n",
              "      display: none;\n",
              "      fill: #1967D2;\n",
              "      height: 32px;\n",
              "      padding: 0 0 0 0;\n",
              "      width: 32px;\n",
              "    }\n",
              "\n",
              "    .colab-df-convert:hover {\n",
              "      background-color: #E2EBFA;\n",
              "      box-shadow: 0px 1px 2px rgba(60, 64, 67, 0.3), 0px 1px 3px 1px rgba(60, 64, 67, 0.15);\n",
              "      fill: #174EA6;\n",
              "    }\n",
              "\n",
              "    [theme=dark] .colab-df-convert {\n",
              "      background-color: #3B4455;\n",
              "      fill: #D2E3FC;\n",
              "    }\n",
              "\n",
              "    [theme=dark] .colab-df-convert:hover {\n",
              "      background-color: #434B5C;\n",
              "      box-shadow: 0px 1px 3px 1px rgba(0, 0, 0, 0.15);\n",
              "      filter: drop-shadow(0px 1px 2px rgba(0, 0, 0, 0.3));\n",
              "      fill: #FFFFFF;\n",
              "    }\n",
              "  </style>\n",
              "\n",
              "      <script>\n",
              "        const buttonEl =\n",
              "          document.querySelector('#df-5379e74a-4df2-42b7-89a6-de0f4ef0a782 button.colab-df-convert');\n",
              "        buttonEl.style.display =\n",
              "          google.colab.kernel.accessAllowed ? 'block' : 'none';\n",
              "\n",
              "        async function convertToInteractive(key) {\n",
              "          const element = document.querySelector('#df-5379e74a-4df2-42b7-89a6-de0f4ef0a782');\n",
              "          const dataTable =\n",
              "            await google.colab.kernel.invokeFunction('convertToInteractive',\n",
              "                                                     [key], {});\n",
              "          if (!dataTable) return;\n",
              "\n",
              "          const docLinkHtml = 'Like what you see? Visit the ' +\n",
              "            '<a target=\"_blank\" href=https://colab.research.google.com/notebooks/data_table.ipynb>data table notebook</a>'\n",
              "            + ' to learn more about interactive tables.';\n",
              "          element.innerHTML = '';\n",
              "          dataTable['output_type'] = 'display_data';\n",
              "          await google.colab.output.renderOutput(dataTable, element);\n",
              "          const docLink = document.createElement('div');\n",
              "          docLink.innerHTML = docLinkHtml;\n",
              "          element.appendChild(docLink);\n",
              "        }\n",
              "      </script>\n",
              "    </div>\n",
              "  </div>\n",
              "  "
            ]
          },
          "metadata": {},
          "execution_count": 23
        }
      ],
      "source": [
        "df.tail()"
      ]
    },
    {
      "cell_type": "code",
      "execution_count": 24,
      "id": "3831c570-daa2-4a98-930e-306c9ff4cd7d",
      "metadata": {
        "colab": {
          "base_uri": "https://localhost:8080/",
          "height": 295
        },
        "id": "3831c570-daa2-4a98-930e-306c9ff4cd7d",
        "outputId": "9eee48b2-de6b-4b44-a2c0-6ee64ab958e9"
      },
      "outputs": [
        {
          "output_type": "display_data",
          "data": {
            "text/plain": [
              "<Figure size 432x288 with 1 Axes>"
            ],
            "image/png": "[encoded data removed]"
          },
          "metadata": {
            "needs_background": "light"
          }
        }
      ],
      "source": [
        "plt.hist(df['Age'], color = 'orange', edgecolor = 'white', bins=[0,24,44,64,100])\n",
        "plt.title('Age distribution')\n",
        "plt.xlabel('Age')\n",
        "plt.ylabel('Frequency')\n",
        "plt.show()"
      ]
    },
    {
      "cell_type": "code",
      "execution_count": 25,
      "id": "d22358ad-10c6-4a8d-a155-ae6eef980c53",
      "metadata": {
        "colab": {
          "base_uri": "https://localhost:8080/",
          "height": 295
        },
        "id": "d22358ad-10c6-4a8d-a155-ae6eef980c53",
        "outputId": "261d5673-516c-41a7-bc89-8f9bf1221b1f"
      },
      "outputs": [
        {
          "output_type": "display_data",
          "data": {
            "text/plain": [
              "<Figure size 432x288 with 1 Axes>"
            ],
            "image/png": "[encoded data removed]"
          },
          "metadata": {
            "needs_background": "light"
          }
        }
      ],
      "source": [
        "sn.countplot(x = 'gender', data = df)\n",
        "plt.title('Gender')\n",
        "plt.show()"
      ]
    },
    {
      "cell_type": "code",
      "execution_count": 26,
      "id": "124f5b3c-2310-4b04-91ab-f10c706831f7",
      "metadata": {
        "colab": {
          "base_uri": "https://localhost:8080/",
          "height": 509
        },
        "id": "124f5b3c-2310-4b04-91ab-f10c706831f7",
        "outputId": "94830e49-5c7c-4176-9e55-111cba629e19"
      },
      "outputs": [
        {
          "output_type": "display_data",
          "data": {
            "text/plain": [
              "<Figure size 1152x576 with 1 Axes>"
            ],
            "image/png": "[encoded data removed]"
          },
          "metadata": {
            "needs_background": "light"
          }
        }
      ],
      "source": [
        "plt.figure(figsize = (16,8))\n",
        "sn.countplot(x='job_industry_category', data = df)\n",
        "plt.title('Job industry category')\n",
        "plt.show()"
      ]
    },
    {
      "cell_type": "code",
      "execution_count": 27,
      "id": "b7e33eb1-9868-4c90-9b10-c97458fea198",
      "metadata": {
        "colab": {
          "base_uri": "https://localhost:8080/",
          "height": 509
        },
        "id": "b7e33eb1-9868-4c90-9b10-c97458fea198",
        "outputId": "3de96a42-de13-4752-c471-303534e04da5"
      },
      "outputs": [
        {
          "output_type": "display_data",
          "data": {
            "text/plain": [
              "<Figure size 1152x576 with 1 Axes>"
            ],
            "image/png": "[encoded data removed]"
          },
          "metadata": {
            "needs_background": "light"
          }
        }
      ],
      "source": [
        "plt.figure(figsize = (16,8))\n",
        "sn.countplot(x='job_industry_category', data=df, hue='gender')\n",
        "plt.legend(title='Gender')\n",
        "plt.title('Job industry category across gender')\n",
        "plt.show()"
      ]
    },
    {
      "cell_type": "code",
      "execution_count": 28,
      "id": "872508ea-0f1c-461d-988e-4ec0ba45013c",
      "metadata": {
        "colab": {
          "base_uri": "https://localhost:8080/",
          "height": 295
        },
        "id": "872508ea-0f1c-461d-988e-4ec0ba45013c",
        "outputId": "9314b88d-dc99-44be-eefe-5eb1094ef619"
      },
      "outputs": [
        {
          "output_type": "display_data",
          "data": {
            "text/plain": [
              "<Figure size 432x288 with 1 Axes>"
            ],
            "image/png": "[encoded data removed]"
          },
          "metadata": {
            "needs_background": "light"
          }
        }
      ],
      "source": [
        "sn.countplot(x = 'wealth_segment', data = df)\n",
        "plt.title('Wealth segment distribution')\n",
        "plt.xlabel('Wealth segment')\n",
        "plt.ylabel('Frequency')\n",
        "plt.show()"
      ]
    },
    {
      "cell_type": "code",
      "execution_count": 29,
      "id": "90c05be6-88f0-4963-9241-a0b2dcbce63a",
      "metadata": {
        "colab": {
          "base_uri": "https://localhost:8080/",
          "height": 295
        },
        "id": "90c05be6-88f0-4963-9241-a0b2dcbce63a",
        "outputId": "48fdd5ea-9b98-4e39-cb8b-d08995aa1723"
      },
      "outputs": [
        {
          "output_type": "display_data",
          "data": {
            "text/plain": [
              "<Figure size 432x288 with 1 Axes>"
            ],
            "image/png": "[encoded data removed]"
          },
          "metadata": {
            "needs_background": "light"
          }
        }
      ],
      "source": [
        "sn.countplot(x='gender', data=df, hue='owns_car')\n",
        "plt.legend(title='Owns car', loc='upper right', fancybox=True)\n",
        "plt.title('Number of cars owned across gender')\n",
        "plt.show()"
      ]
    },
    {
      "cell_type": "code",
      "execution_count": 30,
      "id": "37345740-6e4d-4d0d-a665-1c02c4f7a0d0",
      "metadata": {
        "colab": {
          "base_uri": "https://localhost:8080/",
          "height": 385
        },
        "id": "37345740-6e4d-4d0d-a665-1c02c4f7a0d0",
        "outputId": "141fc255-2f41-401d-c4ca-075e55788330"
      },
      "outputs": [
        {
          "output_type": "display_data",
          "data": {
            "text/plain": [
              "<Figure size 360x360 with 1 Axes>"
            ],
            "image/png": "[encoded data removed]"
          },
          "metadata": {
            "needs_background": "light"
          }
        }
      ],
      "source": [
        "sn.catplot(data=df, x='gender', y='past_3_years_bike_related_purchases')\n",
        "plt.title('Number bike purchased across gender')\n",
        "plt.show()"
      ]
    },
    {
      "cell_type": "code",
      "execution_count": 31,
      "id": "dc72da01-1bee-448f-97d5-a780a7f207f2",
      "metadata": {
        "colab": {
          "base_uri": "https://localhost:8080/",
          "height": 295
        },
        "id": "dc72da01-1bee-448f-97d5-a780a7f207f2",
        "outputId": "d3dac1a6-6e15-4a69-fc13-f4667589f933"
      },
      "outputs": [
        {
          "output_type": "display_data",
          "data": {
            "text/plain": [
              "<Figure size 432x288 with 1 Axes>"
            ],
            "image/png": "[encoded data removed]"
          },
          "metadata": {
            "needs_background": "light"
          }
        }
      ],
      "source": [
        "sn.countplot(x='gender', data=df, hue='wealth_segment')\n",
        "plt.legend(title='Wealth Segment')\n",
        "plt.title('Wealth Segment across gender')\n",
        "plt.show()"
      ]
    },
    {
      "cell_type": "code",
      "execution_count": 32,
      "id": "dd79c859-2bfc-4624-b2fc-7815d4273043",
      "metadata": {
        "colab": {
          "base_uri": "https://localhost:8080/",
          "height": 385
        },
        "id": "dd79c859-2bfc-4624-b2fc-7815d4273043",
        "outputId": "bfe1ec56-8ff7-4448-acbc-5fb4c313d5ec"
      },
      "outputs": [
        {
          "output_type": "display_data",
          "data": {
            "text/plain": [
              "<Figure size 486.75x360 with 1 Axes>"
            ],
            "image/png": "[encoded data removed]"
          },
          "metadata": {
            "needs_background": "light"
          }
        }
      ],
      "source": [
        "sn.displot(x='Age', binwidth=10, data=df, hue='wealth_segment')\n",
        "plt.title('Wealth Segment across age group')\n",
        "plt.show()"
      ]
    },
    {
      "cell_type": "code",
      "execution_count": 33,
      "id": "288897f4-d89a-4eaa-95d6-fc21f673cc16",
      "metadata": {
        "colab": {
          "base_uri": "https://localhost:8080/",
          "height": 295
        },
        "id": "288897f4-d89a-4eaa-95d6-fc21f673cc16",
        "outputId": "3d6b91e2-e4a9-489b-8c1b-a4007c1f0f50"
      },
      "outputs": [
        {
          "output_type": "display_data",
          "data": {
            "text/plain": [
              "<Figure size 432x288 with 1 Axes>"
            ],
            "image/png": "[encoded data removed]"
          },
          "metadata": {
            "needs_background": "light"
          }
        }
      ],
      "source": [
        "sn.countplot(x='state', data=df, hue='wealth_segment')\n",
        "plt.legend(title='Wealth segment')\n",
        "plt.title('Wealth Segment across state')\n",
        "plt.show()"
      ]
    },
    {
      "cell_type": "code",
      "execution_count": 34,
      "id": "95c153c7-ec5e-41be-836a-fe63fec92fac",
      "metadata": {
        "colab": {
          "base_uri": "https://localhost:8080/",
          "height": 295
        },
        "id": "95c153c7-ec5e-41be-836a-fe63fec92fac",
        "outputId": "60ddfae4-5e12-472b-c4a8-9582ebadcb8c"
      },
      "outputs": [
        {
          "output_type": "display_data",
          "data": {
            "text/plain": [
              "<Figure size 432x288 with 1 Axes>"
            ],
            "image/png": "[encoded data removed]"
          },
          "metadata": {
            "needs_background": "light"
          }
        }
      ],
      "source": [
        "sn.countplot(x='gender', data=df, hue='job_industry_category', order = df['gender'].value_counts().index)\n",
        "plt.legend(title='Job industry category', loc='upper right', fancybox=True)\n",
        "plt.title('Job industry category across gender')\n",
        "plt.show()"
      ]
    },
    {
      "cell_type": "code",
      "execution_count": 35,
      "id": "7d658c47-0b10-4d3e-ac35-49089963db1b",
      "metadata": {
        "colab": {
          "base_uri": "https://localhost:8080/",
          "height": 295
        },
        "id": "7d658c47-0b10-4d3e-ac35-49089963db1b",
        "outputId": "7568ffd7-d404-4c05-b86f-36aa7ebfbc7c"
      },
      "outputs": [
        {
          "output_type": "display_data",
          "data": {
            "text/plain": [
              "<Figure size 432x288 with 1 Axes>"
            ],
            "image/png": "[encoded data removed]"
          },
          "metadata": {
            "needs_background": "light"
          }
        }
      ],
      "source": [
        "sn.countplot(x='gender', data=df, hue='state')\n",
        "plt.legend(title='State')\n",
        "plt.title('Number of people of different gender in different state')\n",
        "plt.show()"
      ]
    },
    {
      "cell_type": "code",
      "execution_count": 36,
      "id": "d6801a30-1af1-43a8-93c9-d43fe124abec",
      "metadata": {
        "colab": {
          "base_uri": "https://localhost:8080/",
          "height": 295
        },
        "id": "d6801a30-1af1-43a8-93c9-d43fe124abec",
        "outputId": "c8a8cf55-c142-410b-81fe-f80f2c91846c"
      },
      "outputs": [
        {
          "output_type": "display_data",
          "data": {
            "text/plain": [
              "<Figure size 432x288 with 1 Axes>"
            ],
            "image/png": "[encoded data removed]"
          },
          "metadata": {
            "needs_background": "light"
          }
        }
      ],
      "source": [
        "sn.countplot(x = 'state', data = df, hue = 'gender')\n",
        "plt.legend(title='State')\n",
        "plt.title('Number of people in different state')\n",
        "plt.show()"
      ]
    },
    {
      "cell_type": "code",
      "execution_count": 37,
      "id": "5e47c5d7-ebbb-404e-8777-c869d1b2d053",
      "metadata": {
        "colab": {
          "base_uri": "https://localhost:8080/",
          "height": 295
        },
        "id": "5e47c5d7-ebbb-404e-8777-c869d1b2d053",
        "outputId": "af76101f-18d4-4148-f39b-aed25ccbf8ec"
      },
      "outputs": [
        {
          "output_type": "display_data",
          "data": {
            "text/plain": [
              "<Figure size 432x288 with 1 Axes>"
            ],
            "image/png": "[encoded data removed]"
          },
          "metadata": {
            "needs_background": "light"
          }
        }
      ],
      "source": [
        "sn.countplot(x = 'state', data = df, hue = 'owns_car')\n",
        "plt.legend(title='State')\n",
        "plt.title('Number of people who owns a car in different state')\n",
        "plt.show()"
      ]
    },
    {
      "cell_type": "code",
      "execution_count": 38,
      "id": "f9ec1664-1777-4341-8c9b-7a733afd56d0",
      "metadata": {
        "colab": {
          "base_uri": "https://localhost:8080/",
          "height": 295
        },
        "id": "f9ec1664-1777-4341-8c9b-7a733afd56d0",
        "outputId": "9635e800-b7e5-4dc4-8f47-ada1e4379cca"
      },
      "outputs": [
        {
          "output_type": "display_data",
          "data": {
            "text/plain": [
              "<Figure size 432x288 with 1 Axes>"
            ],
            "image/png": "[encoded data removed]"
          },
          "metadata": {
            "needs_background": "light"
          }
        }
      ],
      "source": [
        "sn.boxplot(x = df['gender'], y = df['Age'])\n",
        "plt.title('Boxplot showing the age range of customers')\n",
        "plt.show()"
      ]
    },
    {
      "cell_type": "code",
      "execution_count": 39,
      "id": "c8d1dea6-1313-4751-9ff1-ba0c32e5ba8b",
      "metadata": {
        "colab": {
          "base_uri": "https://localhost:8080/",
          "height": 265
        },
        "id": "c8d1dea6-1313-4751-9ff1-ba0c32e5ba8b",
        "outputId": "49ff7d60-9feb-4d7c-dead-500f881bdbae"
      },
      "outputs": [
        {
          "output_type": "display_data",
          "data": {
            "text/plain": [
              "<Figure size 432x288 with 1 Axes>"
            ],
            "image/png": "[encoded data removed]"
          },
          "metadata": {
            "needs_background": "light"
          }
        }
      ],
      "source": [
        "plt.scatter(df['profit'], df['transaction_month'], alpha=0.5)\n",
        "colors=np.random.rand()\n",
        "plt.show()"
      ]
    },
    {
      "cell_type": "markdown",
      "id": "3415d3af-59a2-4ac7-b410-5e1f520e7112",
      "metadata": {
        "id": "3415d3af-59a2-4ac7-b410-5e1f520e7112"
      },
      "source": [
        "### Analysis on Target Customer"
      ]
    },
    {
      "cell_type": "code",
      "execution_count": 40,
      "id": "b24e0500-d777-4f55-b05d-921c4799651f",
      "metadata": {
        "id": "b24e0500-d777-4f55-b05d-921c4799651f"
      },
      "outputs": [],
      "source": [
        "df2 = new_cust"
      ]
    },
    {
      "cell_type": "code",
      "execution_count": 41,
      "id": "2f588803-64ef-4f67-941b-ea60e0899687",
      "metadata": {
        "colab": {
          "base_uri": "https://localhost:8080/",
          "height": 444
        },
        "id": "2f588803-64ef-4f67-941b-ea60e0899687",
        "outputId": "041f8626-da0a-471e-9168-28fbba059b3d"
      },
      "outputs": [
        {
          "output_type": "execute_result",
          "data": {
            "text/plain": [
              "  first_name  last_name  gender  past_3_years_bike_related_purchases  \\\n",
              "0    Chickie    Brister    Male                                   86   \n",
              "1      Morly     Genery    Male                                   69   \n",
              "2    Ardelis  Forrester  Female                                   10   \n",
              "3     Lucine      Stutt  Female                                   64   \n",
              "4    Melinda     Hadlee  Female                                   34   \n",
              "\n",
              "          DOB                   job_title job_industry_category  \\\n",
              "0  1957-07-12             General Manager         Manufacturing   \n",
              "1  1970-03-22         Structural Engineer              Property   \n",
              "2  1974-08-28      Senior Cost Accountant    Financial Services   \n",
              "3  1979-01-28  Account Representative III         Manufacturing   \n",
              "4  1965-09-21           Financial Analyst    Financial Services   \n",
              "\n",
              "      wealth_segment deceased_indicator owns_car  tenure              address  \\\n",
              "0      Mass Customer                  N      Yes      14     45 Shopko Center   \n",
              "1      Mass Customer                  N       No      16    14 Mccormick Park   \n",
              "2  Affluent Customer                  N       No      10  5 Colorado Crossing   \n",
              "3  Affluent Customer                  N      Yes       5   207 Annamark Plaza   \n",
              "4  Affluent Customer                  N       No      19    115 Montana Place   \n",
              "\n",
              "   postcode state    country  property_valuation  Rank  Value  \n",
              "0      4500   QLD  Australia                   6     1  1.719  \n",
              "1      2113   NSW  Australia                  11     1  1.719  \n",
              "2      3505   VIC  Australia                   5     1  1.719  \n",
              "3      4814   QLD  Australia                   1     4  1.703  \n",
              "4      2093   NSW  Australia                   9     4  1.703  "
            ],
            "text/html": [
              "\n",
              "  <div id=\"df-2f82f2e8-5d82-42da-b44d-c5be53c325de\">\n",
              "    <div class=\"colab-df-container\">\n",
              "      <div>\n",
              "<style scoped>\n",
              "    .dataframe tbody tr th:only-of-type {\n",
              "        vertical-align: middle;\n",
              "    }\n",
              "\n",
              "    .dataframe tbody tr th {\n",
              "        vertical-align: top;\n",
              "    }\n",
              "\n",
              "    .dataframe thead th {\n",
              "        text-align: right;\n",
              "    }\n",
              "</style>\n",
              "<table border=\"1\" class=\"dataframe\">\n",
              "  <thead>\n",
              "    <tr style=\"text-align: right;\">\n",
              "      <th></th>\n",
              "      <th>first_name</th>\n",
              "      <th>last_name</th>\n",
              "      <th>gender</th>\n",
              "      <th>past_3_years_bike_related_purchases</th>\n",
              "      <th>DOB</th>\n",
              "      <th>job_title</th>\n",
              "      <th>job_industry_category</th>\n",
              "      <th>wealth_segment</th>\n",
              "      <th>deceased_indicator</th>\n",
              "      <th>owns_car</th>\n",
              "      <th>tenure</th>\n",
              "      <th>address</th>\n",
              "      <th>postcode</th>\n",
              "      <th>state</th>\n",
              "      <th>country</th>\n",
              "      <th>property_valuation</th>\n",
              "      <th>Rank</th>\n",
              "      <th>Value</th>\n",
              "    </tr>\n",
              "  </thead>\n",
              "  <tbody>\n",
              "    <tr>\n",
              "      <th>0</th>\n",
              "      <td>Chickie</td>\n",
              "      <td>Brister</td>\n",
              "      <td>Male</td>\n",
              "      <td>86</td>\n",
              "      <td>1957-07-12</td>\n",
              "      <td>General Manager</td>\n",
              "      <td>Manufacturing</td>\n",
              "      <td>Mass Customer</td>\n",
              "      <td>N</td>\n",
              "      <td>Yes</td>\n",
              "      <td>14</td>\n",
              "      <td>45 Shopko Center</td>\n",
              "      <td>4500</td>\n",
              "      <td>QLD</td>\n",
              "      <td>Australia</td>\n",
              "      <td>6</td>\n",
              "      <td>1</td>\n",
              "      <td>1.719</td>\n",
              "    </tr>\n",
              "    <tr>\n",
              "      <th>1</th>\n",
              "      <td>Morly</td>\n",
              "      <td>Genery</td>\n",
              "      <td>Male</td>\n",
              "      <td>69</td>\n",
              "      <td>1970-03-22</td>\n",
              "      <td>Structural Engineer</td>\n",
              "      <td>Property</td>\n",
              "      <td>Mass Customer</td>\n",
              "      <td>N</td>\n",
              "      <td>No</td>\n",
              "      <td>16</td>\n",
              "      <td>14 Mccormick Park</td>\n",
              "      <td>2113</td>\n",
              "      <td>NSW</td>\n",
              "      <td>Australia</td>\n",
              "      <td>11</td>\n",
              "      <td>1</td>\n",
              "      <td>1.719</td>\n",
              "    </tr>\n",
              "    <tr>\n",
              "      <th>2</th>\n",
              "      <td>Ardelis</td>\n",
              "      <td>Forrester</td>\n",
              "      <td>Female</td>\n",
              "      <td>10</td>\n",
              "      <td>1974-08-28</td>\n",
              "      <td>Senior Cost Accountant</td>\n",
              "      <td>Financial Services</td>\n",
              "      <td>Affluent Customer</td>\n",
              "      <td>N</td>\n",
              "      <td>No</td>\n",
              "      <td>10</td>\n",
              "      <td>5 Colorado Crossing</td>\n",
              "      <td>3505</td>\n",
              "      <td>VIC</td>\n",
              "      <td>Australia</td>\n",
              "      <td>5</td>\n",
              "      <td>1</td>\n",
              "      <td>1.719</td>\n",
              "    </tr>\n",
              "    <tr>\n",
              "      <th>3</th>\n",
              "      <td>Lucine</td>\n",
              "      <td>Stutt</td>\n",
              "      <td>Female</td>\n",
              "      <td>64</td>\n",
              "      <td>1979-01-28</td>\n",
              "      <td>Account Representative III</td>\n",
              "      <td>Manufacturing</td>\n",
              "      <td>Affluent Customer</td>\n",
              "      <td>N</td>\n",
              "      <td>Yes</td>\n",
              "      <td>5</td>\n",
              "      <td>207 Annamark Plaza</td>\n",
              "      <td>4814</td>\n",
              "      <td>QLD</td>\n",
              "      <td>Australia</td>\n",
              "      <td>1</td>\n",
              "      <td>4</td>\n",
              "      <td>1.703</td>\n",
              "    </tr>\n",
              "    <tr>\n",
              "      <th>4</th>\n",
              "      <td>Melinda</td>\n",
              "      <td>Hadlee</td>\n",
              "      <td>Female</td>\n",
              "      <td>34</td>\n",
              "      <td>1965-09-21</td>\n",
              "      <td>Financial Analyst</td>\n",
              "      <td>Financial Services</td>\n",
              "      <td>Affluent Customer</td>\n",
              "      <td>N</td>\n",
              "      <td>No</td>\n",
              "      <td>19</td>\n",
              "      <td>115 Montana Place</td>\n",
              "      <td>2093</td>\n",
              "      <td>NSW</td>\n",
              "      <td>Australia</td>\n",
              "      <td>9</td>\n",
              "      <td>4</td>\n",
              "      <td>1.703</td>\n",
              "    </tr>\n",
              "  </tbody>\n",
              "</table>\n",
              "</div>\n",
              "      <button class=\"colab-df-convert\" onclick=\"convertToInteractive('df-2f82f2e8-5d82-42da-b44d-c5be53c325de')\"\n",
              "              title=\"Convert this dataframe to an interactive table.\"\n",
              "              style=\"display:none;\">\n",
              "        \n",
              "  <svg xmlns=\"http://www.w3.org/2000/svg\" height=\"24px\"viewBox=\"0 0 24 24\"\n",
              "       width=\"24px\">\n",
              "    <path d=\"M0 0h24v24H0V0z\" fill=\"none\"/>\n",
              "    <path d=\"M18.56 5.44l.94 2.06.94-2.06 2.06-.94-2.06-.94-.94-2.06-.94 2.06-2.06.94zm-11 1L8.5 8.5l.94-2.06 2.06-.94-2.06-.94L8.5 2.5l-.94 2.06-2.06.94zm10 10l.94 2.06.94-2.06 2.06-.94-2.06-.94-.94-2.06-.94 2.06-2.06.94z\"/><path d=\"M17.41 7.96l-1.37-1.37c-.4-.4-.92-.59-1.43-.59-.52 0-1.04.2-1.43.59L10.3 9.45l-7.72 7.72c-.78.78-.78 2.05 0 2.83L4 21.41c.39.39.9.59 1.41.59.51 0 1.02-.2 1.41-.59l7.78-7.78 2.81-2.81c.8-.78.8-2.07 0-2.86zM5.41 20L4 18.59l7.72-7.72 1.47 1.35L5.41 20z\"/>\n",
              "  </svg>\n",
              "      </button>\n",
              "      \n",
              "  <style>\n",
              "    .colab-df-container {\n",
              "      display:flex;\n",
              "      flex-wrap:wrap;\n",
              "      gap: 12px;\n",
              "    }\n",
              "\n",
              "    .colab-df-convert {\n",
              "      background-color: #E8F0FE;\n",
              "      border: none;\n",
              "      border-radius: 50%;\n",
              "      cursor: pointer;\n",
              "      display: none;\n",
              "      fill: #1967D2;\n",
              "      height: 32px;\n",
              "      padding: 0 0 0 0;\n",
              "      width: 32px;\n",
              "    }\n",
              "\n",
              "    .colab-df-convert:hover {\n",
              "      background-color: #E2EBFA;\n",
              "      box-shadow: 0px 1px 2px rgba(60, 64, 67, 0.3), 0px 1px 3px 1px rgba(60, 64, 67, 0.15);\n",
              "      fill: #174EA6;\n",
              "    }\n",
              "\n",
              "    [theme=dark] .colab-df-convert {\n",
              "      background-color: #3B4455;\n",
              "      fill: #D2E3FC;\n",
              "    }\n",
              "\n",
              "    [theme=dark] .colab-df-convert:hover {\n",
              "      background-color: #434B5C;\n",
              "      box-shadow: 0px 1px 3px 1px rgba(0, 0, 0, 0.15);\n",
              "      filter: drop-shadow(0px 1px 2px rgba(0, 0, 0, 0.3));\n",
              "      fill: #FFFFFF;\n",
              "    }\n",
              "  </style>\n",
              "\n",
              "      <script>\n",
              "        const buttonEl =\n",
              "          document.querySelector('#df-2f82f2e8-5d82-42da-b44d-c5be53c325de button.colab-df-convert');\n",
              "        buttonEl.style.display =\n",
              "          google.colab.kernel.accessAllowed ? 'block' : 'none';\n",
              "\n",
              "        async function convertToInteractive(key) {\n",
              "          const element = document.querySelector('#df-2f82f2e8-5d82-42da-b44d-c5be53c325de');\n",
              "          const dataTable =\n",
              "            await google.colab.kernel.invokeFunction('convertToInteractive',\n",
              "                                                     [key], {});\n",
              "          if (!dataTable) return;\n",
              "\n",
              "          const docLinkHtml = 'Like what you see? Visit the ' +\n",
              "            '<a target=\"_blank\" href=https://colab.research.google.com/notebooks/data_table.ipynb>data table notebook</a>'\n",
              "            + ' to learn more about interactive tables.';\n",
              "          element.innerHTML = '';\n",
              "          dataTable['output_type'] = 'display_data';\n",
              "          await google.colab.output.renderOutput(dataTable, element);\n",
              "          const docLink = document.createElement('div');\n",
              "          docLink.innerHTML = docLinkHtml;\n",
              "          element.appendChild(docLink);\n",
              "        }\n",
              "      </script>\n",
              "    </div>\n",
              "  </div>\n",
              "  "
            ]
          },
          "metadata": {},
          "execution_count": 41
        }
      ],
      "source": [
        "df2.head()"
      ]
    },
    {
      "cell_type": "code",
      "execution_count": 42,
      "id": "9f4a8548-d7dd-4019-acc9-88331eb6fe4f",
      "metadata": {
        "colab": {
          "base_uri": "https://localhost:8080/"
        },
        "id": "9f4a8548-d7dd-4019-acc9-88331eb6fe4f",
        "outputId": "2aca3d1a-a79b-48a0-f385-1a6e05b88129"
      },
      "outputs": [
        {
          "output_type": "stream",
          "name": "stdout",
          "text": [
            "<class 'pandas.core.frame.DataFrame'>\n",
            "RangeIndex: 1000 entries, 0 to 999\n",
            "Data columns (total 18 columns):\n",
            " #   Column                               Non-Null Count  Dtype  \n",
            "---  ------                               --------------  -----  \n",
            " 0   first_name                           1000 non-null   object \n",
            " 1   last_name                            1000 non-null   object \n",
            " 2   gender                               1000 non-null   object \n",
            " 3   past_3_years_bike_related_purchases  1000 non-null   int64  \n",
            " 4   DOB                                  1000 non-null   object \n",
            " 5   job_title                            1000 non-null   object \n",
            " 6   job_industry_category                1000 non-null   object \n",
            " 7   wealth_segment                       1000 non-null   object \n",
            " 8   deceased_indicator                   1000 non-null   object \n",
            " 9   owns_car                             1000 non-null   object \n",
            " 10  tenure                               1000 non-null   int64  \n",
            " 11  address                              1000 non-null   object \n",
            " 12  postcode                             1000 non-null   int64  \n",
            " 13  state                                1000 non-null   object \n",
            " 14  country                              1000 non-null   object \n",
            " 15  property_valuation                   1000 non-null   int64  \n",
            " 16  Rank                                 1000 non-null   int64  \n",
            " 17  Value                                1000 non-null   float64\n",
            "dtypes: float64(1), int64(5), object(12)\n",
            "memory usage: 140.8+ KB\n"
          ]
        }
      ],
      "source": [
        "df2.info()"
      ]
    },
    {
      "cell_type": "code",
      "execution_count": 43,
      "id": "2338f861-24f2-4f64-ae1b-2e104c7a3bde",
      "metadata": {
        "colab": {
          "base_uri": "https://localhost:8080/",
          "height": 300
        },
        "id": "2338f861-24f2-4f64-ae1b-2e104c7a3bde",
        "outputId": "75293bc8-b96f-4241-bda1-6ef9fd084324"
      },
      "outputs": [
        {
          "output_type": "execute_result",
          "data": {
            "text/plain": [
              "       past_3_years_bike_related_purchases       tenure     postcode  \\\n",
              "count                          1000.000000  1000.000000  1000.000000   \n",
              "mean                             49.836000    11.388000  3019.227000   \n",
              "std                              27.796686     5.037145   848.895767   \n",
              "min                               0.000000     0.000000  2000.000000   \n",
              "25%                              26.750000     7.000000  2209.000000   \n",
              "50%                              51.000000    11.000000  2800.000000   \n",
              "75%                              72.000000    15.000000  3845.500000   \n",
              "max                              99.000000    22.000000  4879.000000   \n",
              "\n",
              "       property_valuation         Rank        Value  \n",
              "count         1000.000000  1000.000000  1000.000000  \n",
              "mean             7.397000   498.819000     0.881722  \n",
              "std              2.758804   288.810997     0.293550  \n",
              "min              1.000000     1.000000     0.340000  \n",
              "25%              6.000000   250.000000     0.649500  \n",
              "50%              8.000000   500.000000     0.860000  \n",
              "75%              9.000000   750.250000     1.075000  \n",
              "max             12.000000  1000.000000     1.719000  "
            ],
            "text/html": [
              "\n",
              "  <div id=\"df-af5422b4-d18b-4c37-b5fd-5d845a0bcbef\">\n",
              "    <div class=\"colab-df-container\">\n",
              "      <div>\n",
              "<style scoped>\n",
              "    .dataframe tbody tr th:only-of-type {\n",
              "        vertical-align: middle;\n",
              "    }\n",
              "\n",
              "    .dataframe tbody tr th {\n",
              "        vertical-align: top;\n",
              "    }\n",
              "\n",
              "    .dataframe thead th {\n",
              "        text-align: right;\n",
              "    }\n",
              "</style>\n",
              "<table border=\"1\" class=\"dataframe\">\n",
              "  <thead>\n",
              "    <tr style=\"text-align: right;\">\n",
              "      <th></th>\n",
              "      <th>past_3_years_bike_related_purchases</th>\n",
              "      <th>tenure</th>\n",
              "      <th>postcode</th>\n",
              "      <th>property_valuation</th>\n",
              "      <th>Rank</th>\n",
              "      <th>Value</th>\n",
              "    </tr>\n",
              "  </thead>\n",
              "  <tbody>\n",
              "    <tr>\n",
              "      <th>count</th>\n",
              "      <td>1000.000000</td>\n",
              "      <td>1000.000000</td>\n",
              "      <td>1000.000000</td>\n",
              "      <td>1000.000000</td>\n",
              "      <td>1000.000000</td>\n",
              "      <td>1000.000000</td>\n",
              "    </tr>\n",
              "    <tr>\n",
              "      <th>mean</th>\n",
              "      <td>49.836000</td>\n",
              "      <td>11.388000</td>\n",
              "      <td>3019.227000</td>\n",
              "      <td>7.397000</td>\n",
              "      <td>498.819000</td>\n",
              "      <td>0.881722</td>\n",
              "    </tr>\n",
              "    <tr>\n",
              "      <th>std</th>\n",
              "      <td>27.796686</td>\n",
              "      <td>5.037145</td>\n",
              "      <td>848.895767</td>\n",
              "      <td>2.758804</td>\n",
              "      <td>288.810997</td>\n",
              "      <td>0.293550</td>\n",
              "    </tr>\n",
              "    <tr>\n",
              "      <th>min</th>\n",
              "      <td>0.000000</td>\n",
              "      <td>0.000000</td>\n",
              "      <td>2000.000000</td>\n",
              "      <td>1.000000</td>\n",
              "      <td>1.000000</td>\n",
              "      <td>0.340000</td>\n",
              "    </tr>\n",
              "    <tr>\n",
              "      <th>25%</th>\n",
              "      <td>26.750000</td>\n",
              "      <td>7.000000</td>\n",
              "      <td>2209.000000</td>\n",
              "      <td>6.000000</td>\n",
              "      <td>250.000000</td>\n",
              "      <td>0.649500</td>\n",
              "    </tr>\n",
              "    <tr>\n",
              "      <th>50%</th>\n",
              "      <td>51.000000</td>\n",
              "      <td>11.000000</td>\n",
              "      <td>2800.000000</td>\n",
              "      <td>8.000000</td>\n",
              "      <td>500.000000</td>\n",
              "      <td>0.860000</td>\n",
              "    </tr>\n",
              "    <tr>\n",
              "      <th>75%</th>\n",
              "      <td>72.000000</td>\n",
              "      <td>15.000000</td>\n",
              "      <td>3845.500000</td>\n",
              "      <td>9.000000</td>\n",
              "      <td>750.250000</td>\n",
              "      <td>1.075000</td>\n",
              "    </tr>\n",
              "    <tr>\n",
              "      <th>max</th>\n",
              "      <td>99.000000</td>\n",
              "      <td>22.000000</td>\n",
              "      <td>4879.000000</td>\n",
              "      <td>12.000000</td>\n",
              "      <td>1000.000000</td>\n",
              "      <td>1.719000</td>\n",
              "    </tr>\n",
              "  </tbody>\n",
              "</table>\n",
              "</div>\n",
              "      <button class=\"colab-df-convert\" onclick=\"convertToInteractive('df-af5422b4-d18b-4c37-b5fd-5d845a0bcbef')\"\n",
              "              title=\"Convert this dataframe to an interactive table.\"\n",
              "              style=\"display:none;\">\n",
              "        \n",
              "  <svg xmlns=\"http://www.w3.org/2000/svg\" height=\"24px\"viewBox=\"0 0 24 24\"\n",
              "       width=\"24px\">\n",
              "    <path d=\"M0 0h24v24H0V0z\" fill=\"none\"/>\n",
              "    <path d=\"M18.56 5.44l.94 2.06.94-2.06 2.06-.94-2.06-.94-.94-2.06-.94 2.06-2.06.94zm-11 1L8.5 8.5l.94-2.06 2.06-.94-2.06-.94L8.5 2.5l-.94 2.06-2.06.94zm10 10l.94 2.06.94-2.06 2.06-.94-2.06-.94-.94-2.06-.94 2.06-2.06.94z\"/><path d=\"M17.41 7.96l-1.37-1.37c-.4-.4-.92-.59-1.43-.59-.52 0-1.04.2-1.43.59L10.3 9.45l-7.72 7.72c-.78.78-.78 2.05 0 2.83L4 21.41c.39.39.9.59 1.41.59.51 0 1.02-.2 1.41-.59l7.78-7.78 2.81-2.81c.8-.78.8-2.07 0-2.86zM5.41 20L4 18.59l7.72-7.72 1.47 1.35L5.41 20z\"/>\n",
              "  </svg>\n",
              "      </button>\n",
              "      \n",
              "  <style>\n",
              "    .colab-df-container {\n",
              "      display:flex;\n",
              "      flex-wrap:wrap;\n",
              "      gap: 12px;\n",
              "    }\n",
              "\n",
              "    .colab-df-convert {\n",
              "      background-color: #E8F0FE;\n",
              "      border: none;\n",
              "      border-radius: 50%;\n",
              "      cursor: pointer;\n",
              "      display: none;\n",
              "      fill: #1967D2;\n",
              "      height: 32px;\n",
              "      padding: 0 0 0 0;\n",
              "      width: 32px;\n",
              "    }\n",
              "\n",
              "    .colab-df-convert:hover {\n",
              "      background-color: #E2EBFA;\n",
              "      box-shadow: 0px 1px 2px rgba(60, 64, 67, 0.3), 0px 1px 3px 1px rgba(60, 64, 67, 0.15);\n",
              "      fill: #174EA6;\n",
              "    }\n",
              "\n",
              "    [theme=dark] .colab-df-convert {\n",
              "      background-color: #3B4455;\n",
              "      fill: #D2E3FC;\n",
              "    }\n",
              "\n",
              "    [theme=dark] .colab-df-convert:hover {\n",
              "      background-color: #434B5C;\n",
              "      box-shadow: 0px 1px 3px 1px rgba(0, 0, 0, 0.15);\n",
              "      filter: drop-shadow(0px 1px 2px rgba(0, 0, 0, 0.3));\n",
              "      fill: #FFFFFF;\n",
              "    }\n",
              "  </style>\n",
              "\n",
              "      <script>\n",
              "        const buttonEl =\n",
              "          document.querySelector('#df-af5422b4-d18b-4c37-b5fd-5d845a0bcbef button.colab-df-convert');\n",
              "        buttonEl.style.display =\n",
              "          google.colab.kernel.accessAllowed ? 'block' : 'none';\n",
              "\n",
              "        async function convertToInteractive(key) {\n",
              "          const element = document.querySelector('#df-af5422b4-d18b-4c37-b5fd-5d845a0bcbef');\n",
              "          const dataTable =\n",
              "            await google.colab.kernel.invokeFunction('convertToInteractive',\n",
              "                                                     [key], {});\n",
              "          if (!dataTable) return;\n",
              "\n",
              "          const docLinkHtml = 'Like what you see? Visit the ' +\n",
              "            '<a target=\"_blank\" href=https://colab.research.google.com/notebooks/data_table.ipynb>data table notebook</a>'\n",
              "            + ' to learn more about interactive tables.';\n",
              "          element.innerHTML = '';\n",
              "          dataTable['output_type'] = 'display_data';\n",
              "          await google.colab.output.renderOutput(dataTable, element);\n",
              "          const docLink = document.createElement('div');\n",
              "          docLink.innerHTML = docLinkHtml;\n",
              "          element.appendChild(docLink);\n",
              "        }\n",
              "      </script>\n",
              "    </div>\n",
              "  </div>\n",
              "  "
            ]
          },
          "metadata": {},
          "execution_count": 43
        }
      ],
      "source": [
        "df2.describe()"
      ]
    },
    {
      "cell_type": "code",
      "execution_count": 44,
      "id": "740e0abf-6aae-4b97-be32-f7ec4d9eac65",
      "metadata": {
        "colab": {
          "base_uri": "https://localhost:8080/"
        },
        "id": "740e0abf-6aae-4b97-be32-f7ec4d9eac65",
        "outputId": "4a39639e-4b48-482a-89b1-0e69f9015894"
      },
      "outputs": [
        {
          "output_type": "execute_result",
          "data": {
            "text/plain": [
              "0"
            ]
          },
          "metadata": {},
          "execution_count": 44
        }
      ],
      "source": [
        "df2.duplicated().sum()"
      ]
    },
    {
      "cell_type": "code",
      "execution_count": 45,
      "id": "cebad4ca-be76-402d-b12a-668ef13b30e4",
      "metadata": {
        "colab": {
          "base_uri": "https://localhost:8080/",
          "height": 206
        },
        "id": "cebad4ca-be76-402d-b12a-668ef13b30e4",
        "outputId": "462b91ce-5e11-4505-8368-539374f02ef3"
      },
      "outputs": [
        {
          "output_type": "execute_result",
          "data": {
            "text/plain": [
              "                    missing number  missing percentage\n",
              "first_name                       0                 0.0\n",
              "last_name                        0                 0.0\n",
              "Rank                             0                 0.0\n",
              "property_valuation               0                 0.0\n",
              "country                          0                 0.0"
            ],
            "text/html": [
              "\n",
              "  <div id=\"df-34668b8d-b279-4e17-9abf-2381a2acc91d\">\n",
              "    <div class=\"colab-df-container\">\n",
              "      <div>\n",
              "<style scoped>\n",
              "    .dataframe tbody tr th:only-of-type {\n",
              "        vertical-align: middle;\n",
              "    }\n",
              "\n",
              "    .dataframe tbody tr th {\n",
              "        vertical-align: top;\n",
              "    }\n",
              "\n",
              "    .dataframe thead th {\n",
              "        text-align: right;\n",
              "    }\n",
              "</style>\n",
              "<table border=\"1\" class=\"dataframe\">\n",
              "  <thead>\n",
              "    <tr style=\"text-align: right;\">\n",
              "      <th></th>\n",
              "      <th>missing number</th>\n",
              "      <th>missing percentage</th>\n",
              "    </tr>\n",
              "  </thead>\n",
              "  <tbody>\n",
              "    <tr>\n",
              "      <th>first_name</th>\n",
              "      <td>0</td>\n",
              "      <td>0.0</td>\n",
              "    </tr>\n",
              "    <tr>\n",
              "      <th>last_name</th>\n",
              "      <td>0</td>\n",
              "      <td>0.0</td>\n",
              "    </tr>\n",
              "    <tr>\n",
              "      <th>Rank</th>\n",
              "      <td>0</td>\n",
              "      <td>0.0</td>\n",
              "    </tr>\n",
              "    <tr>\n",
              "      <th>property_valuation</th>\n",
              "      <td>0</td>\n",
              "      <td>0.0</td>\n",
              "    </tr>\n",
              "    <tr>\n",
              "      <th>country</th>\n",
              "      <td>0</td>\n",
              "      <td>0.0</td>\n",
              "    </tr>\n",
              "  </tbody>\n",
              "</table>\n",
              "</div>\n",
              "      <button class=\"colab-df-convert\" onclick=\"convertToInteractive('df-34668b8d-b279-4e17-9abf-2381a2acc91d')\"\n",
              "              title=\"Convert this dataframe to an interactive table.\"\n",
              "              style=\"display:none;\">\n",
              "        \n",
              "  <svg xmlns=\"http://www.w3.org/2000/svg\" height=\"24px\"viewBox=\"0 0 24 24\"\n",
              "       width=\"24px\">\n",
              "    <path d=\"M0 0h24v24H0V0z\" fill=\"none\"/>\n",
              "    <path d=\"M18.56 5.44l.94 2.06.94-2.06 2.06-.94-2.06-.94-.94-2.06-.94 2.06-2.06.94zm-11 1L8.5 8.5l.94-2.06 2.06-.94-2.06-.94L8.5 2.5l-.94 2.06-2.06.94zm10 10l.94 2.06.94-2.06 2.06-.94-2.06-.94-.94-2.06-.94 2.06-2.06.94z\"/><path d=\"M17.41 7.96l-1.37-1.37c-.4-.4-.92-.59-1.43-.59-.52 0-1.04.2-1.43.59L10.3 9.45l-7.72 7.72c-.78.78-.78 2.05 0 2.83L4 21.41c.39.39.9.59 1.41.59.51 0 1.02-.2 1.41-.59l7.78-7.78 2.81-2.81c.8-.78.8-2.07 0-2.86zM5.41 20L4 18.59l7.72-7.72 1.47 1.35L5.41 20z\"/>\n",
              "  </svg>\n",
              "      </button>\n",
              "      \n",
              "  <style>\n",
              "    .colab-df-container {\n",
              "      display:flex;\n",
              "      flex-wrap:wrap;\n",
              "      gap: 12px;\n",
              "    }\n",
              "\n",
              "    .colab-df-convert {\n",
              "      background-color: #E8F0FE;\n",
              "      border: none;\n",
              "      border-radius: 50%;\n",
              "      cursor: pointer;\n",
              "      display: none;\n",
              "      fill: #1967D2;\n",
              "      height: 32px;\n",
              "      padding: 0 0 0 0;\n",
              "      width: 32px;\n",
              "    }\n",
              "\n",
              "    .colab-df-convert:hover {\n",
              "      background-color: #E2EBFA;\n",
              "      box-shadow: 0px 1px 2px rgba(60, 64, 67, 0.3), 0px 1px 3px 1px rgba(60, 64, 67, 0.15);\n",
              "      fill: #174EA6;\n",
              "    }\n",
              "\n",
              "    [theme=dark] .colab-df-convert {\n",
              "      background-color: #3B4455;\n",
              "      fill: #D2E3FC;\n",
              "    }\n",
              "\n",
              "    [theme=dark] .colab-df-convert:hover {\n",
              "      background-color: #434B5C;\n",
              "      box-shadow: 0px 1px 3px 1px rgba(0, 0, 0, 0.15);\n",
              "      filter: drop-shadow(0px 1px 2px rgba(0, 0, 0, 0.3));\n",
              "      fill: #FFFFFF;\n",
              "    }\n",
              "  </style>\n",
              "\n",
              "      <script>\n",
              "        const buttonEl =\n",
              "          document.querySelector('#df-34668b8d-b279-4e17-9abf-2381a2acc91d button.colab-df-convert');\n",
              "        buttonEl.style.display =\n",
              "          google.colab.kernel.accessAllowed ? 'block' : 'none';\n",
              "\n",
              "        async function convertToInteractive(key) {\n",
              "          const element = document.querySelector('#df-34668b8d-b279-4e17-9abf-2381a2acc91d');\n",
              "          const dataTable =\n",
              "            await google.colab.kernel.invokeFunction('convertToInteractive',\n",
              "                                                     [key], {});\n",
              "          if (!dataTable) return;\n",
              "\n",
              "          const docLinkHtml = 'Like what you see? Visit the ' +\n",
              "            '<a target=\"_blank\" href=https://colab.research.google.com/notebooks/data_table.ipynb>data table notebook</a>'\n",
              "            + ' to learn more about interactive tables.';\n",
              "          element.innerHTML = '';\n",
              "          dataTable['output_type'] = 'display_data';\n",
              "          await google.colab.output.renderOutput(dataTable, element);\n",
              "          const docLink = document.createElement('div');\n",
              "          docLink.innerHTML = docLinkHtml;\n",
              "          element.appendChild(docLink);\n",
              "        }\n",
              "      </script>\n",
              "    </div>\n",
              "  </div>\n",
              "  "
            ]
          },
          "metadata": {},
          "execution_count": 45
        }
      ],
      "source": [
        "# count rows of missing data for each column\n",
        "missing_number=df2.isnull().sum().sort_values(ascending=False)\n",
        "\n",
        "# Calculate percentage of null value\n",
        "missing_percentage=missing_number*100/len(df2)\n",
        "missing_info=pd.concat([missing_number,missing_percentage],axis=1,keys=['missing number','missing percentage'])\n",
        "missing_info.head()"
      ]
    },
    {
      "cell_type": "code",
      "execution_count": 46,
      "id": "e11af144-e948-41da-9011-b2cb17d957b4",
      "metadata": {
        "id": "e11af144-e948-41da-9011-b2cb17d957b4"
      },
      "outputs": [],
      "source": [
        "df2['new_id'] = df2.index"
      ]
    },
    {
      "cell_type": "code",
      "execution_count": 47,
      "id": "58b7fe49-2c95-426c-a07b-20a2fb80d528",
      "metadata": {
        "id": "58b7fe49-2c95-426c-a07b-20a2fb80d528"
      },
      "outputs": [],
      "source": [
        "df2['DOB'] = pd.to_datetime(df2['DOB'], errors='coerce')"
      ]
    },
    {
      "cell_type": "code",
      "execution_count": 48,
      "id": "dd950612-ced4-4ef3-b942-e3d04eab5945",
      "metadata": {
        "colab": {
          "base_uri": "https://localhost:8080/"
        },
        "id": "dd950612-ced4-4ef3-b942-e3d04eab5945",
        "outputId": "edb8cc4c-69f8-4ec3-c1d7-79b18f2df9fd"
      },
      "outputs": [
        {
          "output_type": "execute_result",
          "data": {
            "text/plain": [
              "first_name                                     object\n",
              "last_name                                      object\n",
              "gender                                         object\n",
              "past_3_years_bike_related_purchases             int64\n",
              "DOB                                    datetime64[ns]\n",
              "job_title                                      object\n",
              "job_industry_category                          object\n",
              "wealth_segment                                 object\n",
              "deceased_indicator                             object\n",
              "owns_car                                       object\n",
              "tenure                                          int64\n",
              "address                                        object\n",
              "postcode                                        int64\n",
              "state                                          object\n",
              "country                                        object\n",
              "property_valuation                              int64\n",
              "Rank                                            int64\n",
              "Value                                         float64\n",
              "new_id                                          int64\n",
              "dtype: object"
            ]
          },
          "metadata": {},
          "execution_count": 48
        }
      ],
      "source": [
        "df2.dtypes"
      ]
    },
    {
      "cell_type": "code",
      "execution_count": 49,
      "id": "6ec69ab4-86c9-4cc5-bdf1-76355d199c56",
      "metadata": {
        "colab": {
          "base_uri": "https://localhost:8080/"
        },
        "id": "6ec69ab4-86c9-4cc5-bdf1-76355d199c56",
        "outputId": "d265404c-f480-4473-9848-25f321308564"
      },
      "outputs": [
        {
          "output_type": "execute_result",
          "data": {
            "text/plain": [
              "0     1957-07-12\n",
              "1     1970-03-22\n",
              "2     1974-08-28\n",
              "3     1979-01-28\n",
              "4     1965-09-21\n",
              "         ...    \n",
              "995   1959-10-07\n",
              "996   2001-10-17\n",
              "997   1954-10-05\n",
              "998   1952-12-17\n",
              "999   1955-10-02\n",
              "Name: DOB, Length: 1000, dtype: datetime64[ns]"
            ]
          },
          "metadata": {},
          "execution_count": 49
        }
      ],
      "source": [
        "df2['DOB'] = df2['DOB'].apply(lambda x: x.strftime('%Y-%m-%d')if not pd.isnull(x) else '')\n",
        "df2['DOB'].astype('datetime64')"
      ]
    },
    {
      "cell_type": "code",
      "execution_count": 50,
      "id": "3fb40d82-ae32-469c-a9dd-fae58d65294f",
      "metadata": {
        "id": "3fb40d82-ae32-469c-a9dd-fae58d65294f"
      },
      "outputs": [],
      "source": [
        "df2['DOB'] = df2['DOB'].fillna(df2['DOB'].mode())"
      ]
    },
    {
      "cell_type": "code",
      "execution_count": 51,
      "id": "4061d505-3dd3-4a71-9bd7-66babdcb620e",
      "metadata": {
        "id": "4061d505-3dd3-4a71-9bd7-66babdcb620e"
      },
      "outputs": [],
      "source": [
        "ref_date2 = dt.datetime.now()\n",
        "df2['Age'] = df2['DOB'].apply(lambda x: len(pd.date_range(start = x, end = ref_date2, freq = 'Y')) if str(x) else None)"
      ]
    },
    {
      "cell_type": "code",
      "execution_count": 52,
      "id": "ed4b0039-5f80-46ed-8379-a5f201159dd4",
      "metadata": {
        "colab": {
          "base_uri": "https://localhost:8080/",
          "height": 444
        },
        "id": "ed4b0039-5f80-46ed-8379-a5f201159dd4",
        "outputId": "bd0048cb-6a08-43ca-90ff-cea57a03ac29"
      },
      "outputs": [
        {
          "output_type": "execute_result",
          "data": {
            "text/plain": [
              "  first_name  last_name  gender  past_3_years_bike_related_purchases  \\\n",
              "0    Chickie    Brister    Male                                   86   \n",
              "1      Morly     Genery    Male                                   69   \n",
              "2    Ardelis  Forrester  Female                                   10   \n",
              "3     Lucine      Stutt  Female                                   64   \n",
              "4    Melinda     Hadlee  Female                                   34   \n",
              "\n",
              "          DOB                   job_title job_industry_category  \\\n",
              "0  1957-07-12             General Manager         Manufacturing   \n",
              "1  1970-03-22         Structural Engineer              Property   \n",
              "2  1974-08-28      Senior Cost Accountant    Financial Services   \n",
              "3  1979-01-28  Account Representative III         Manufacturing   \n",
              "4  1965-09-21           Financial Analyst    Financial Services   \n",
              "\n",
              "      wealth_segment deceased_indicator owns_car  tenure              address  \\\n",
              "0      Mass Customer                  N      Yes      14     45 Shopko Center   \n",
              "1      Mass Customer                  N       No      16    14 Mccormick Park   \n",
              "2  Affluent Customer                  N       No      10  5 Colorado Crossing   \n",
              "3  Affluent Customer                  N      Yes       5   207 Annamark Plaza   \n",
              "4  Affluent Customer                  N       No      19    115 Montana Place   \n",
              "\n",
              "   postcode state    country  property_valuation  Rank  Value  new_id   Age  \n",
              "0      4500   QLD  Australia                   6     1  1.719       0  65.0  \n",
              "1      2113   NSW  Australia                  11     1  1.719       1  52.0  \n",
              "2      3505   VIC  Australia                   5     1  1.719       2  48.0  \n",
              "3      4814   QLD  Australia                   1     4  1.703       3  43.0  \n",
              "4      2093   NSW  Australia                   9     4  1.703       4  57.0  "
            ],
            "text/html": [
              "\n",
              "  <div id=\"df-6a27ddb0-b51c-4b67-ba22-56607f1382ea\">\n",
              "    <div class=\"colab-df-container\">\n",
              "      <div>\n",
              "<style scoped>\n",
              "    .dataframe tbody tr th:only-of-type {\n",
              "        vertical-align: middle;\n",
              "    }\n",
              "\n",
              "    .dataframe tbody tr th {\n",
              "        vertical-align: top;\n",
              "    }\n",
              "\n",
              "    .dataframe thead th {\n",
              "        text-align: right;\n",
              "    }\n",
              "</style>\n",
              "<table border=\"1\" class=\"dataframe\">\n",
              "  <thead>\n",
              "    <tr style=\"text-align: right;\">\n",
              "      <th></th>\n",
              "      <th>first_name</th>\n",
              "      <th>last_name</th>\n",
              "      <th>gender</th>\n",
              "      <th>past_3_years_bike_related_purchases</th>\n",
              "      <th>DOB</th>\n",
              "      <th>job_title</th>\n",
              "      <th>job_industry_category</th>\n",
              "      <th>wealth_segment</th>\n",
              "      <th>deceased_indicator</th>\n",
              "      <th>owns_car</th>\n",
              "      <th>tenure</th>\n",
              "      <th>address</th>\n",
              "      <th>postcode</th>\n",
              "      <th>state</th>\n",
              "      <th>country</th>\n",
              "      <th>property_valuation</th>\n",
              "      <th>Rank</th>\n",
              "      <th>Value</th>\n",
              "      <th>new_id</th>\n",
              "      <th>Age</th>\n",
              "    </tr>\n",
              "  </thead>\n",
              "  <tbody>\n",
              "    <tr>\n",
              "      <th>0</th>\n",
              "      <td>Chickie</td>\n",
              "      <td>Brister</td>\n",
              "      <td>Male</td>\n",
              "      <td>86</td>\n",
              "      <td>1957-07-12</td>\n",
              "      <td>General Manager</td>\n",
              "      <td>Manufacturing</td>\n",
              "      <td>Mass Customer</td>\n",
              "      <td>N</td>\n",
              "      <td>Yes</td>\n",
              "      <td>14</td>\n",
              "      <td>45 Shopko Center</td>\n",
              "      <td>4500</td>\n",
              "      <td>QLD</td>\n",
              "      <td>Australia</td>\n",
              "      <td>6</td>\n",
              "      <td>1</td>\n",
              "      <td>1.719</td>\n",
              "      <td>0</td>\n",
              "      <td>65.0</td>\n",
              "    </tr>\n",
              "    <tr>\n",
              "      <th>1</th>\n",
              "      <td>Morly</td>\n",
              "      <td>Genery</td>\n",
              "      <td>Male</td>\n",
              "      <td>69</td>\n",
              "      <td>1970-03-22</td>\n",
              "      <td>Structural Engineer</td>\n",
              "      <td>Property</td>\n",
              "      <td>Mass Customer</td>\n",
              "      <td>N</td>\n",
              "      <td>No</td>\n",
              "      <td>16</td>\n",
              "      <td>14 Mccormick Park</td>\n",
              "      <td>2113</td>\n",
              "      <td>NSW</td>\n",
              "      <td>Australia</td>\n",
              "      <td>11</td>\n",
              "      <td>1</td>\n",
              "      <td>1.719</td>\n",
              "      <td>1</td>\n",
              "      <td>52.0</td>\n",
              "    </tr>\n",
              "    <tr>\n",
              "      <th>2</th>\n",
              "      <td>Ardelis</td>\n",
              "      <td>Forrester</td>\n",
              "      <td>Female</td>\n",
              "      <td>10</td>\n",
              "      <td>1974-08-28</td>\n",
              "      <td>Senior Cost Accountant</td>\n",
              "      <td>Financial Services</td>\n",
              "      <td>Affluent Customer</td>\n",
              "      <td>N</td>\n",
              "      <td>No</td>\n",
              "      <td>10</td>\n",
              "      <td>5 Colorado Crossing</td>\n",
              "      <td>3505</td>\n",
              "      <td>VIC</td>\n",
              "      <td>Australia</td>\n",
              "      <td>5</td>\n",
              "      <td>1</td>\n",
              "      <td>1.719</td>\n",
              "      <td>2</td>\n",
              "      <td>48.0</td>\n",
              "    </tr>\n",
              "    <tr>\n",
              "      <th>3</th>\n",
              "      <td>Lucine</td>\n",
              "      <td>Stutt</td>\n",
              "      <td>Female</td>\n",
              "      <td>64</td>\n",
              "      <td>1979-01-28</td>\n",
              "      <td>Account Representative III</td>\n",
              "      <td>Manufacturing</td>\n",
              "      <td>Affluent Customer</td>\n",
              "      <td>N</td>\n",
              "      <td>Yes</td>\n",
              "      <td>5</td>\n",
              "      <td>207 Annamark Plaza</td>\n",
              "      <td>4814</td>\n",
              "      <td>QLD</td>\n",
              "      <td>Australia</td>\n",
              "      <td>1</td>\n",
              "      <td>4</td>\n",
              "      <td>1.703</td>\n",
              "      <td>3</td>\n",
              "      <td>43.0</td>\n",
              "    </tr>\n",
              "    <tr>\n",
              "      <th>4</th>\n",
              "      <td>Melinda</td>\n",
              "      <td>Hadlee</td>\n",
              "      <td>Female</td>\n",
              "      <td>34</td>\n",
              "      <td>1965-09-21</td>\n",
              "      <td>Financial Analyst</td>\n",
              "      <td>Financial Services</td>\n",
              "      <td>Affluent Customer</td>\n",
              "      <td>N</td>\n",
              "      <td>No</td>\n",
              "      <td>19</td>\n",
              "      <td>115 Montana Place</td>\n",
              "      <td>2093</td>\n",
              "      <td>NSW</td>\n",
              "      <td>Australia</td>\n",
              "      <td>9</td>\n",
              "      <td>4</td>\n",
              "      <td>1.703</td>\n",
              "      <td>4</td>\n",
              "      <td>57.0</td>\n",
              "    </tr>\n",
              "  </tbody>\n",
              "</table>\n",
              "</div>\n",
              "      <button class=\"colab-df-convert\" onclick=\"convertToInteractive('df-6a27ddb0-b51c-4b67-ba22-56607f1382ea')\"\n",
              "              title=\"Convert this dataframe to an interactive table.\"\n",
              "              style=\"display:none;\">\n",
              "        \n",
              "  <svg xmlns=\"http://www.w3.org/2000/svg\" height=\"24px\"viewBox=\"0 0 24 24\"\n",
              "       width=\"24px\">\n",
              "    <path d=\"M0 0h24v24H0V0z\" fill=\"none\"/>\n",
              "    <path d=\"M18.56 5.44l.94 2.06.94-2.06 2.06-.94-2.06-.94-.94-2.06-.94 2.06-2.06.94zm-11 1L8.5 8.5l.94-2.06 2.06-.94-2.06-.94L8.5 2.5l-.94 2.06-2.06.94zm10 10l.94 2.06.94-2.06 2.06-.94-2.06-.94-.94-2.06-.94 2.06-2.06.94z\"/><path d=\"M17.41 7.96l-1.37-1.37c-.4-.4-.92-.59-1.43-.59-.52 0-1.04.2-1.43.59L10.3 9.45l-7.72 7.72c-.78.78-.78 2.05 0 2.83L4 21.41c.39.39.9.59 1.41.59.51 0 1.02-.2 1.41-.59l7.78-7.78 2.81-2.81c.8-.78.8-2.07 0-2.86zM5.41 20L4 18.59l7.72-7.72 1.47 1.35L5.41 20z\"/>\n",
              "  </svg>\n",
              "      </button>\n",
              "      \n",
              "  <style>\n",
              "    .colab-df-container {\n",
              "      display:flex;\n",
              "      flex-wrap:wrap;\n",
              "      gap: 12px;\n",
              "    }\n",
              "\n",
              "    .colab-df-convert {\n",
              "      background-color: #E8F0FE;\n",
              "      border: none;\n",
              "      border-radius: 50%;\n",
              "      cursor: pointer;\n",
              "      display: none;\n",
              "      fill: #1967D2;\n",
              "      height: 32px;\n",
              "      padding: 0 0 0 0;\n",
              "      width: 32px;\n",
              "    }\n",
              "\n",
              "    .colab-df-convert:hover {\n",
              "      background-color: #E2EBFA;\n",
              "      box-shadow: 0px 1px 2px rgba(60, 64, 67, 0.3), 0px 1px 3px 1px rgba(60, 64, 67, 0.15);\n",
              "      fill: #174EA6;\n",
              "    }\n",
              "\n",
              "    [theme=dark] .colab-df-convert {\n",
              "      background-color: #3B4455;\n",
              "      fill: #D2E3FC;\n",
              "    }\n",
              "\n",
              "    [theme=dark] .colab-df-convert:hover {\n",
              "      background-color: #434B5C;\n",
              "      box-shadow: 0px 1px 3px 1px rgba(0, 0, 0, 0.15);\n",
              "      filter: drop-shadow(0px 1px 2px rgba(0, 0, 0, 0.3));\n",
              "      fill: #FFFFFF;\n",
              "    }\n",
              "  </style>\n",
              "\n",
              "      <script>\n",
              "        const buttonEl =\n",
              "          document.querySelector('#df-6a27ddb0-b51c-4b67-ba22-56607f1382ea button.colab-df-convert');\n",
              "        buttonEl.style.display =\n",
              "          google.colab.kernel.accessAllowed ? 'block' : 'none';\n",
              "\n",
              "        async function convertToInteractive(key) {\n",
              "          const element = document.querySelector('#df-6a27ddb0-b51c-4b67-ba22-56607f1382ea');\n",
              "          const dataTable =\n",
              "            await google.colab.kernel.invokeFunction('convertToInteractive',\n",
              "                                                     [key], {});\n",
              "          if (!dataTable) return;\n",
              "\n",
              "          const docLinkHtml = 'Like what you see? Visit the ' +\n",
              "            '<a target=\"_blank\" href=https://colab.research.google.com/notebooks/data_table.ipynb>data table notebook</a>'\n",
              "            + ' to learn more about interactive tables.';\n",
              "          element.innerHTML = '';\n",
              "          dataTable['output_type'] = 'display_data';\n",
              "          await google.colab.output.renderOutput(dataTable, element);\n",
              "          const docLink = document.createElement('div');\n",
              "          docLink.innerHTML = docLinkHtml;\n",
              "          element.appendChild(docLink);\n",
              "        }\n",
              "      </script>\n",
              "    </div>\n",
              "  </div>\n",
              "  "
            ]
          },
          "metadata": {},
          "execution_count": 52
        }
      ],
      "source": [
        "df2.head()"
      ]
    },
    {
      "cell_type": "code",
      "execution_count": 53,
      "id": "1e5c3f25-af56-4497-b4c4-cb41dc29ab98",
      "metadata": {
        "id": "1e5c3f25-af56-4497-b4c4-cb41dc29ab98"
      },
      "outputs": [],
      "source": [
        "df2 = df2[df2.Age < 100]"
      ]
    },
    {
      "cell_type": "code",
      "execution_count": 54,
      "id": "2d9fd9fb-3bf2-480a-9836-f8bc0d1eeac1",
      "metadata": {
        "colab": {
          "base_uri": "https://localhost:8080/",
          "height": 295
        },
        "id": "2d9fd9fb-3bf2-480a-9836-f8bc0d1eeac1",
        "outputId": "d0f4d62c-8b83-42e0-f6b3-40c6206b20bc"
      },
      "outputs": [
        {
          "output_type": "display_data",
          "data": {
            "text/plain": [
              "<Figure size 432x288 with 1 Axes>"
            ],
            "image/png": "[encoded data removed]"
          },
          "metadata": {
            "needs_background": "light"
          }
        }
      ],
      "source": [
        "plt.hist(df2['Age'], color = 'orange', edgecolor = 'white', bins=[0,24,44,64,100])\n",
        "plt.title('Age distribution histogram')\n",
        "plt.xlabel('Age')\n",
        "plt.ylabel('Frequency')\n",
        "plt.show()"
      ]
    },
    {
      "cell_type": "code",
      "execution_count": 55,
      "id": "89730d16-9b85-413b-ba8a-547d13e30654",
      "metadata": {
        "colab": {
          "base_uri": "https://localhost:8080/",
          "height": 295
        },
        "id": "89730d16-9b85-413b-ba8a-547d13e30654",
        "outputId": "2f51ea3a-6f5d-4874-e46f-69c25b43ae07"
      },
      "outputs": [
        {
          "output_type": "display_data",
          "data": {
            "text/plain": [
              "<Figure size 432x288 with 1 Axes>"
            ],
            "image/png": "[encoded data removed]"
          },
          "metadata": {
            "needs_background": "light"
          }
        }
      ],
      "source": [
        "sn.countplot(x = 'gender', data = df2)\n",
        "plt.title('Gender count')\n",
        "plt.show()"
      ]
    },
    {
      "cell_type": "code",
      "execution_count": 56,
      "id": "7e929ae4-86e1-4fe3-92a8-b4e9621fc0ee",
      "metadata": {
        "colab": {
          "base_uri": "https://localhost:8080/",
          "height": 512
        },
        "id": "7e929ae4-86e1-4fe3-92a8-b4e9621fc0ee",
        "outputId": "3f7289a4-06fa-492d-b61b-518d160ff936"
      },
      "outputs": [
        {
          "output_type": "display_data",
          "data": {
            "text/plain": [
              "<Figure size 1152x576 with 1 Axes>"
            ],
            "image/png": "[encoded data removed]"
          },
          "metadata": {
            "needs_background": "light"
          }
        }
      ],
      "source": [
        "plt.figure(figsize = (16,8))\n",
        "sn.countplot(x='job_industry_category', data = df2)\n",
        "plt.title('Job industry category')\n",
        "plt.show()"
      ]
    },
    {
      "cell_type": "code",
      "execution_count": 57,
      "id": "d0954edd-1384-4cce-a575-5f72a1e29da6",
      "metadata": {
        "colab": {
          "base_uri": "https://localhost:8080/",
          "height": 512
        },
        "id": "d0954edd-1384-4cce-a575-5f72a1e29da6",
        "outputId": "019c985a-f24b-416b-b9f6-a1c6d4502816"
      },
      "outputs": [
        {
          "output_type": "display_data",
          "data": {
            "text/plain": [
              "<Figure size 1152x576 with 1 Axes>"
            ],
            "image/png": "[encoded data removed]"
          },
          "metadata": {
            "needs_background": "light"
          }
        }
      ],
      "source": [
        "plt.figure(figsize = (16,8))\n",
        "sn.countplot(x='job_industry_category', data=df2, hue='gender')\n",
        "plt.legend(title='Gender', loc='upper right', fancybox=True)\n",
        "plt.title('Job industry category across gender')\n",
        "plt.show()"
      ]
    },
    {
      "cell_type": "code",
      "execution_count": 58,
      "id": "78420b4b-3996-43a0-bcaa-40d8cd343ec5",
      "metadata": {
        "colab": {
          "base_uri": "https://localhost:8080/",
          "height": 295
        },
        "id": "78420b4b-3996-43a0-bcaa-40d8cd343ec5",
        "outputId": "1b420686-73c7-4b50-ee17-edbd6a3f15c8"
      },
      "outputs": [
        {
          "output_type": "display_data",
          "data": {
            "text/plain": [
              "<Figure size 432x288 with 1 Axes>"
            ],
            "image/png": "[encoded data removed]"
          },
          "metadata": {
            "needs_background": "light"
          }
        }
      ],
      "source": [
        "sn.countplot(x = 'wealth_segment', data = df2)\n",
        "plt.title('Wealth segment distribution')\n",
        "plt.xlabel('Wealth segment')\n",
        "plt.ylabel('Frequency')\n",
        "plt.show()"
      ]
    },
    {
      "cell_type": "code",
      "execution_count": 59,
      "id": "52072fe9-3362-4419-a392-588aaae31cc5",
      "metadata": {
        "colab": {
          "base_uri": "https://localhost:8080/",
          "height": 295
        },
        "id": "52072fe9-3362-4419-a392-588aaae31cc5",
        "outputId": "d3be71a5-1058-402e-fdd5-46883e237eb3"
      },
      "outputs": [
        {
          "output_type": "display_data",
          "data": {
            "text/plain": [
              "<Figure size 432x288 with 1 Axes>"
            ],
            "image/png": "[encoded data removed]"
          },
          "metadata": {
            "needs_background": "light"
          }
        }
      ],
      "source": [
        "sn.countplot(x='gender', data=df2, hue='owns_car')\n",
        "plt.legend(title='Owns car')\n",
        "plt.title('Number of cars owned across gender')\n",
        "plt.show()"
      ]
    },
    {
      "cell_type": "code",
      "execution_count": 60,
      "id": "6dc45888-058a-4250-a224-7f42376e53ea",
      "metadata": {
        "colab": {
          "base_uri": "https://localhost:8080/",
          "height": 385
        },
        "id": "6dc45888-058a-4250-a224-7f42376e53ea",
        "outputId": "ca88719c-4c46-40f1-e735-701966175cab"
      },
      "outputs": [
        {
          "output_type": "display_data",
          "data": {
            "text/plain": [
              "<Figure size 360x360 with 1 Axes>"
            ],
            "image/png": "[encoded data removed]"
          },
          "metadata": {
            "needs_background": "light"
          }
        }
      ],
      "source": [
        "sn.catplot(data=df2, x='gender', y='past_3_years_bike_related_purchases')\n",
        "plt.title('Number bike purchased across gender')\n",
        "plt.show()"
      ]
    },
    {
      "cell_type": "code",
      "execution_count": 61,
      "id": "8eb14c09-cfe0-4396-a4ba-e58c4d3c4fb4",
      "metadata": {
        "colab": {
          "base_uri": "https://localhost:8080/",
          "height": 295
        },
        "id": "8eb14c09-cfe0-4396-a4ba-e58c4d3c4fb4",
        "outputId": "4b1ebfd2-c2c1-4631-9206-76fc232b129e"
      },
      "outputs": [
        {
          "output_type": "display_data",
          "data": {
            "text/plain": [
              "<Figure size 432x288 with 1 Axes>"
            ],
            "image/png": "[encoded data removed]"
          },
          "metadata": {
            "needs_background": "light"
          }
        }
      ],
      "source": [
        "sn.countplot(x='gender', data=df2, hue='wealth_segment')\n",
        "plt.legend(title='Wealth Segment')\n",
        "plt.title('Wealth Segment across gender')\n",
        "plt.show()"
      ]
    },
    {
      "cell_type": "code",
      "execution_count": 62,
      "id": "f74ff5f6-efb5-464d-838c-5dc9ea38de43",
      "metadata": {
        "colab": {
          "base_uri": "https://localhost:8080/",
          "height": 385
        },
        "id": "f74ff5f6-efb5-464d-838c-5dc9ea38de43",
        "outputId": "9d803110-ef82-4b18-ae3e-47d1a529e410"
      },
      "outputs": [
        {
          "output_type": "display_data",
          "data": {
            "text/plain": [
              "<Figure size 486.75x360 with 1 Axes>"
            ],
            "image/png": "[encoded data removed]"
          },
          "metadata": {
            "needs_background": "light"
          }
        }
      ],
      "source": [
        "sn.displot(x='Age', binwidth=10, data=df2, hue='wealth_segment')\n",
        "plt.title('Wealth Segment across age group')\n",
        "plt.show()"
      ]
    },
    {
      "cell_type": "code",
      "execution_count": 63,
      "id": "ad6c89cc-425a-40a9-8b55-a0ec730c292e",
      "metadata": {
        "colab": {
          "base_uri": "https://localhost:8080/",
          "height": 295
        },
        "id": "ad6c89cc-425a-40a9-8b55-a0ec730c292e",
        "outputId": "bef6a605-c9de-4042-c34b-b15725132257"
      },
      "outputs": [
        {
          "output_type": "display_data",
          "data": {
            "text/plain": [
              "<Figure size 432x288 with 1 Axes>"
            ],
            "image/png": "[encoded data removed]"
          },
          "metadata": {
            "needs_background": "light"
          }
        }
      ],
      "source": [
        "sn.countplot(x='state', data=df2, hue='wealth_segment')\n",
        "plt.legend(title='Wealth segment', loc='upper right', fancybox=True)\n",
        "plt.title('Wealth Segment across state')\n",
        "plt.show()"
      ]
    },
    {
      "cell_type": "code",
      "execution_count": 64,
      "id": "e957cee9-a938-4fa9-9f49-049c08d0097f",
      "metadata": {
        "colab": {
          "base_uri": "https://localhost:8080/",
          "height": 511
        },
        "id": "e957cee9-a938-4fa9-9f49-049c08d0097f",
        "outputId": "808be42d-b1a6-4d50-ba9b-18c209267ba2"
      },
      "outputs": [
        {
          "output_type": "display_data",
          "data": {
            "text/plain": [
              "<Figure size 1152x576 with 1 Axes>"
            ],
            "image/png": "[encoded data removed]"
          },
          "metadata": {
            "needs_background": "light"
          }
        }
      ],
      "source": [
        "plt.figure(figsize=(16,8))\n",
        "sn.countplot(x='gender', data=df2, hue='job_industry_category', order = df2['gender'].value_counts().index)\n",
        "plt.legend(title='Job industry category', loc='upper right', fancybox=True)\n",
        "plt.title('Job industry category across gender')\n",
        "plt.show()"
      ]
    },
    {
      "cell_type": "code",
      "execution_count": 65,
      "id": "4734d6d6-adda-457c-bd90-e74c89d69653",
      "metadata": {
        "colab": {
          "base_uri": "https://localhost:8080/",
          "height": 295
        },
        "id": "4734d6d6-adda-457c-bd90-e74c89d69653",
        "outputId": "049dd8de-51d4-459e-b1bf-49f1fa3e0f91"
      },
      "outputs": [
        {
          "output_type": "display_data",
          "data": {
            "text/plain": [
              "<Figure size 432x288 with 1 Axes>"
            ],
            "image/png": "[encoded data removed]"
          },
          "metadata": {
            "needs_background": "light"
          }
        }
      ],
      "source": [
        "sn.countplot(x='gender', data=df2, hue='state')\n",
        "plt.legend(title='State', loc='upper right', fancybox=True)\n",
        "plt.title('Number of people of different gender in different state')\n",
        "plt.show()"
      ]
    },
    {
      "cell_type": "code",
      "execution_count": 66,
      "id": "3457edcb-803b-4242-954a-761bbf8297ec",
      "metadata": {
        "colab": {
          "base_uri": "https://localhost:8080/",
          "height": 295
        },
        "id": "3457edcb-803b-4242-954a-761bbf8297ec",
        "outputId": "5a1a3a5e-5b36-4f0e-f6db-db88e729f610"
      },
      "outputs": [
        {
          "output_type": "display_data",
          "data": {
            "text/plain": [
              "<Figure size 432x288 with 1 Axes>"
            ],
            "image/png": "[encoded data removed]"
          },
          "metadata": {
            "needs_background": "light"
          }
        }
      ],
      "source": [
        "sn.countplot(x = 'state', data = df2, hue = 'gender')\n",
        "plt.legend(title='State', loc='upper right', fancybox=True)\n",
        "plt.title('Number of people in different state')\n",
        "plt.show()"
      ]
    },
    {
      "cell_type": "code",
      "execution_count": 67,
      "id": "31283468-7225-4a42-a98f-4c6478d574c0",
      "metadata": {
        "colab": {
          "base_uri": "https://localhost:8080/",
          "height": 295
        },
        "id": "31283468-7225-4a42-a98f-4c6478d574c0",
        "outputId": "cb6fc643-6f33-4919-c0e3-17b6ae9aa3b8"
      },
      "outputs": [
        {
          "output_type": "display_data",
          "data": {
            "text/plain": [
              "<Figure size 432x288 with 1 Axes>"
            ],
            "image/png": "[encoded data removed]"
          },
          "metadata": {
            "needs_background": "light"
          }
        }
      ],
      "source": [
        "sn.countplot(x = 'state', data = df2, hue = 'owns_car')\n",
        "plt.legend(title='State', loc='upper right', fancybox=True)\n",
        "plt.title('Number of people who owns a car in different state')\n",
        "plt.show()"
      ]
    },
    {
      "cell_type": "code",
      "execution_count": 68,
      "id": "2c1dc260-3458-428b-b285-73136b9c8566",
      "metadata": {
        "colab": {
          "base_uri": "https://localhost:8080/",
          "height": 295
        },
        "id": "2c1dc260-3458-428b-b285-73136b9c8566",
        "outputId": "488614e3-ee43-466f-f3d0-53a6590723d9"
      },
      "outputs": [
        {
          "output_type": "display_data",
          "data": {
            "text/plain": [
              "<Figure size 432x288 with 1 Axes>"
            ],
            "image/png": "[encoded data removed]"
          },
          "metadata": {
            "needs_background": "light"
          }
        }
      ],
      "source": [
        "sn.boxplot(x = df2['gender'], y = df2['Age'])\n",
        "plt.title('Boxplot showing the age range of customers')\n",
        "plt.show()"
      ]
    },
    {
      "cell_type": "code",
      "execution_count": 69,
      "id": "82227db2-7abf-4550-9750-ee973631f873",
      "metadata": {
        "id": "82227db2-7abf-4550-9750-ee973631f873"
      },
      "outputs": [],
      "source": [
        "#print the final file to excel\n",
        "df.to_excel('./current_customers.xlsx', index=False)\n",
        "df2.to_excel('./target_new_customers.xlsx', index=False)"
      ]
    },
    {
      "cell_type": "code",
      "source": [
        ""
      ],
      "metadata": {
        "id": "_PUZhZ1wzm9F"
      },
      "id": "_PUZhZ1wzm9F",
      "execution_count": 69,
      "outputs": []
    }
  ],
  "metadata": {
    "kernelspec": {
      "display_name": "Python 3",
      "language": "python",
      "name": "python3"
    },
    "language_info": {
      "codemirror_mode": {
        "name": "ipython",
        "version": 3
      },
      "file_extension": ".py",
      "mimetype": "text/x-python",
      "name": "python",
      "nbconvert_exporter": "python",
      "pygments_lexer": "ipython3",
      "version": "3.8.8"
    },
    "colab": {
      "name": "Task2_Data_Insights.ipynb",
      "provenance": []
    }
  },
  "nbformat": 4,
  "nbformat_minor": 5
}